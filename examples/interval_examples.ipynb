{
 "cells": [
  {
   "cell_type": "markdown",
   "metadata": {},
   "source": [
    "## Example Usage of Interval Class ##"
   ]
  },
  {
   "cell_type": "markdown",
   "metadata": {},
   "source": [
    "### Setup ###"
   ]
  },
  {
   "cell_type": "code",
   "execution_count": null,
   "metadata": {},
   "outputs": [],
   "source": [
    "import os, sys\n",
    "\n",
    "srcdir = os.path.join(os.path.dirname(os.getcwd()), \"src\")\n",
    "sys.path.append(srcdir)\n",
    "from hec.interval import Interval # type: ignore\n",
    "import traceback"
   ]
  },
  {
   "cell_type": "markdown",
   "metadata": {},
   "source": [
    "### Get CWMS and HEC-DSS Intervals by Name and Minutes ###"
   ]
  },
  {
   "cell_type": "code",
   "execution_count": null,
   "metadata": {},
   "outputs": [],
   "source": [
    "intvl1 = Interval.getCwms(\"1Hour\")\n",
    "intvl2 = Interval.getDss(\"1Hour\")\n",
    "print(f\"intvl1 = {intvl1} ({repr(intvl1)})\")\n",
    "print(f\"intvl2 = {intvl2} ({repr(intvl2)})\")\n",
    "print(f\"intvl2 == intvl1 = {intvl2 == intvl1}\")\n",
    "print(f\"intvl2.name == intvl1.name = {intvl2.name == intvl1.name}\")\n",
    "print(f\"intvl2.minutes == intvl1.minutes = {intvl2.minutes == intvl1.minutes}\")\n",
    "print(\"\")\n",
    "intvl3 = Interval.getCwms(120)\n",
    "intvl4 = Interval.getDss(120)\n",
    "print(f\"intvl3 = {intvl3} ({repr(intvl3)})\")\n",
    "print(f\"intvl4 = {intvl4} ({repr(intvl4)})\")\n",
    "print(f\"intvl4 == intvl2 = {intvl4 == intvl3}\")\n",
    "print(f\"intvl4.name == intvl3.name = {intvl4.name == intvl3.name}\")\n",
    "print(f\"intvl4.minutes == intvl3.minutes = {intvl4.minutes == intvl3.minutes}\")\n",
    "print(\"\")\n",
    "try:\n",
    "    intvl = Interval.getCwms(\"2Hour\")\n",
    "except:\n",
    "    traceback.print_exc()"
   ]
  },
  {
   "cell_type": "markdown",
   "metadata": {},
   "source": [
    "### Using `getAny` Methods ###"
   ]
  },
  {
   "cell_type": "code",
   "execution_count": null,
   "metadata": {},
   "outputs": [],
   "source": [
    "i = Interval.getAnyDss(lambda i: i.name == \"1Hour\")\n",
    "print(f'\\nInterval.getAnyDss(lambda i: i.name==\"1Hour\") = {i} ({repr(i)})')\n",
    "\n",
    "i = Interval.getAnyCwms(lambda i: i.name == \"1Hour\")\n",
    "print(f'\\nInterval.getAnyCwms(lambda i: i.name==\"1Hour\") = {i} ({repr(i)})')\n",
    "\n",
    "i = Interval.getAnyDss(lambda i: i.name == \"2Hour\")\n",
    "print(f'\\nInterval.getAnyDss(lambda i: i.name==\"2Hour\") = {i} ({repr(i)})')\n",
    "\n",
    "i = Interval.getAnyCwms(lambda i: i.name == \"2Hour\")\n",
    "print(f'\\nInterval.getAnyCwms(lambda i: i.name==\"2Hour\") = {i} ({repr(i)})')\n",
    "\n",
    "i = Interval.getAnyDss(lambda i: i.name == \"2Hours\")\n",
    "print(f'\\nInterval.getAnyDss(lambda i: i.name==\"2Hours\") = {i} ({repr(i)})')\n",
    "\n",
    "i = Interval.getAnyCwms(lambda i: i.name == \"2Hours\")\n",
    "print(f'\\nInterval.getAnyCwms(lambda i: i.name==\"2Hours\") = {i} ({repr(i)})')"
   ]
  },
  {
   "cell_type": "markdown",
   "metadata": {},
   "source": [
    "### Using `getAll` Methods"
   ]
  },
  {
   "cell_type": "code",
   "execution_count": null,
   "metadata": {},
   "outputs": [],
   "source": [
    "intvls = Interval.getAll(lambda i: i.name.startswith(\"2Hour\"))\n",
    "print(f'\\nInterval.getAll(lambda i: i.name.startswith(\"2Hour\")) = {intvls}')\n",
    "\n",
    "names = Interval.getAllDssNames(lambda i: i.name.find(\"Month\") != -1)\n",
    "print(\n",
    "    f'\\nintvl = Interval.getAllDssNames(lambda i: i.name.find(\"Month\") != -1) = {names}'\n",
    ")\n",
    "\n",
    "names = Interval.getAllCwmsNames(lambda i: i.name.find(\"Month\") != -1)\n",
    "print(\n",
    "    f'\\nintvl = Interval.getAllCwmsNames(lambda i: i.name.find(\"Month\") != -1) = {names}'\n",
    ")\n",
    "\n",
    "names = Interval.getAllNames(lambda i: i.name.find(\"Month\") != -1)\n",
    "print(f'\\nintvl = Interval.getAllNames(lambda i: i.name.find(\"Month\") != -1) = {names}')\n",
    "print(f\"\\nInterval.getAllDssNames() = {Interval.getAllDssNames()}\")\n",
    "print(f\"\\nInterval.getAllCwmsNames() = {Interval.getAllCwmsNames()}\")\n",
    "print(f\"\\nInterval.getAllDssBlockNames() = {Interval.getAllDssBlockNames()}\")\n",
    "print(\"\\nInterval.MINUTES = {\")\n",
    "for k in Interval.MINUTES:\n",
    "    kk = f\"'{k}'\"\n",
    "    print(f\"\\t{kk.ljust(12)} : {Interval.MINUTES[k]:8d},\")\n",
    "print(\"}\")"
   ]
  }
 ],
 "metadata": {
  "kernelspec": {
   "display_name": "python_3_9",
   "language": "python",
   "name": "python3"
  },
  "language_info": {
   "codemirror_mode": {
    "name": "ipython",
    "version": 3
   },
   "file_extension": ".py",
   "mimetype": "text/x-python",
   "name": "python",
   "nbconvert_exporter": "python",
   "pygments_lexer": "ipython3",
   "version": "3.9.19"
  }
 },
 "nbformat": 4,
 "nbformat_minor": 2
}
