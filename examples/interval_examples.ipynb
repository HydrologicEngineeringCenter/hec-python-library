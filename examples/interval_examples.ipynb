{
 "cells": [
  {
   "cell_type": "markdown",
   "metadata": {},
   "source": [
    "## Example Usage of Interval Class ##"
   ]
  },
  {
   "cell_type": "markdown",
   "metadata": {},
   "source": [
    "### Setup ###"
   ]
  },
  {
   "cell_type": "code",
   "execution_count": null,
   "metadata": {},
   "outputs": [],
   "source": [
    "import os\n",
    "import sys\n",
    "\n",
    "sys.path.append(os.path.dirname(os.getcwd()))\n",
    "import traceback\n",
    "\n",
    "from hec import Interval"
   ]
  },
  {
   "cell_type": "markdown",
   "metadata": {},
   "source": [
    "### Get CWMS and HEC-DSS Intervals by Name and Minutes ###"
   ]
  },
  {
   "cell_type": "code",
   "execution_count": 2,
   "metadata": {},
   "outputs": [
    {
     "name": "stdout",
     "output_type": "stream",
     "text": [
      "intvl1 = PT1H (Interval(\"PT1H\", \"1Hour\"))\n",
      "intvl2 = PT1H (Interval(\"PT1H\", \"1Hour\"))\n",
      "intvl2 == intvl1 = False\n",
      "intvl2.name == intvl1.name = True\n",
      "intvl2.minutes == intvl1.minutes = True\n",
      "\n",
      "intvl3 = PT2H (Interval(\"PT2H\", \"2Hours\"))\n",
      "intvl4 = PT2H (Interval(\"PT2H\", \"2Hour\"))\n",
      "intvl4 == intvl2 = False\n",
      "intvl4.name == intvl3.name = False\n",
      "intvl4.minutes == intvl3.minutes = True\n",
      "\n"
     ]
    },
    {
     "name": "stderr",
     "output_type": "stream",
     "text": [
      "Traceback (most recent call last):\n",
      "  File \"C:\\Users\\Q0hecmdp\\AppData\\Local\\Temp\\1\\ipykernel_15084\\1844583847.py\", line 18, in <module>\n",
      "    intvl = Interval.get_cwms(\"2Hour\")\n",
      "  File \"u:\\Devl\\git\\hec-python-library\\hec\\interval.py\", line 913, in get_cwms\n",
      "    raise IntervalException(f'No CWMS interval found with name = \"{key}\"')\n",
      "hec.interval.IntervalException: No CWMS interval found with name = \"2Hour\"\n"
     ]
    }
   ],
   "source": [
    "intvl1 = Interval.get_cwms(\"1Hour\")\n",
    "intvl2 = Interval.get_dss(\"1Hour\")\n",
    "print(f\"intvl1 = {intvl1} ({repr(intvl1)})\")\n",
    "print(f\"intvl2 = {intvl2} ({repr(intvl2)})\")\n",
    "print(f\"intvl2 == intvl1 = {intvl2 == intvl1}\")\n",
    "print(f\"intvl2.name == intvl1.name = {intvl2.name == intvl1.name}\")\n",
    "print(f\"intvl2.minutes == intvl1.minutes = {intvl2.minutes == intvl1.minutes}\")\n",
    "print(\"\")\n",
    "intvl3 = Interval.get_cwms(120)\n",
    "intvl4 = Interval.get_dss(120)\n",
    "print(f\"intvl3 = {intvl3} ({repr(intvl3)})\")\n",
    "print(f\"intvl4 = {intvl4} ({repr(intvl4)})\")\n",
    "print(f\"intvl4 == intvl2 = {intvl4 == intvl3}\")\n",
    "print(f\"intvl4.name == intvl3.name = {intvl4.name == intvl3.name}\")\n",
    "print(f\"intvl4.minutes == intvl3.minutes = {intvl4.minutes == intvl3.minutes}\")\n",
    "print(\"\")\n",
    "try:\n",
    "    intvl = Interval.get_cwms(\"2Hour\")\n",
    "except:\n",
    "    traceback.print_exc()"
   ]
  },
  {
   "cell_type": "markdown",
   "metadata": {},
   "source": [
    "### Using `get_any` Methods ###"
   ]
  },
  {
   "cell_type": "code",
   "execution_count": 3,
   "metadata": {},
   "outputs": [
    {
     "name": "stdout",
     "output_type": "stream",
     "text": [
      "\n",
      "Interval.get_any_cwms(lambda i: i.name==\"1Hour\") = PT1H (Interval(\"PT1H\", \"1Hour\"))\n",
      "\n",
      "Interval.get_any_cwms(lambda i: i.name==\"1Hour\") = PT1H (Interval(\"PT1H\", \"1Hour\"))\n",
      "\n",
      "Interval.get_any_dss(lambda i: i.name==\"2Hour\") = PT2H (Interval(\"PT2H\", \"2Hour\"))\n",
      "\n",
      "Interval.get_any_cwms(lambda i: i.name==\"2Hour\") = None (None)\n",
      "\n",
      "Interval.get_any_dss(lambda i: i.name==\"2Hours\") = None (None)\n",
      "\n",
      "Interval.get_any_cwms(lambda i: i.name==\"2Hours\") = PT2H (Interval(\"PT2H\", \"2Hours\"))\n"
     ]
    }
   ],
   "source": [
    "i = Interval.get_any_cwms(lambda i: i.name == \"1Hour\")\n",
    "print(f'\\nInterval.get_any_cwms(lambda i: i.name==\"1Hour\") = {i} ({repr(i)})')\n",
    "\n",
    "i = Interval.get_any_cwms(lambda i: i.name == \"1Hour\")\n",
    "print(f'\\nInterval.get_any_cwms(lambda i: i.name==\"1Hour\") = {i} ({repr(i)})')\n",
    "\n",
    "i = Interval.get_any_dss(lambda i: i.name == \"2Hour\")\n",
    "print(f'\\nInterval.get_any_dss(lambda i: i.name==\"2Hour\") = {i} ({repr(i)})')\n",
    "\n",
    "i = Interval.get_any_cwms(lambda i: i.name == \"2Hour\")\n",
    "print(f'\\nInterval.get_any_cwms(lambda i: i.name==\"2Hour\") = {i} ({repr(i)})')\n",
    "\n",
    "i = Interval.get_any_dss(lambda i: i.name == \"2Hours\")\n",
    "print(f'\\nInterval.get_any_dss(lambda i: i.name==\"2Hours\") = {i} ({repr(i)})')\n",
    "\n",
    "i = Interval.get_any_cwms(lambda i: i.name == \"2Hours\")\n",
    "print(f'\\nInterval.get_any_cwms(lambda i: i.name==\"2Hours\") = {i} ({repr(i)})')"
   ]
  },
  {
   "cell_type": "markdown",
   "metadata": {},
   "source": [
    "### Using `get_all` Methods"
   ]
  },
  {
   "cell_type": "code",
   "execution_count": 4,
   "metadata": {},
   "outputs": [
    {
     "name": "stdout",
     "output_type": "stream",
     "text": [
      "\n",
      "Interval.get_all(lambda i: i.name.startswith(\"2Hour\")) = [Interval(\"PT2H\", \"2Hours\"), Interval(\"PT2H\", \"2Hour\")]\n",
      "\n",
      "intvl = Interval.get_all_dss_names(lambda i: i.name.find(\"Month\") != -1) = ['IR-Month', '~1Month', 'Tri-Month', 'Semi-Month', '1Month']\n",
      "\n",
      "intvl = Interval.get_all_cwms_names(lambda i: i.name.find(\"Month\") != -1) = ['~1Month', '1Month']\n",
      "\n",
      "intvl = Interval.get_all_names(lambda i: i.name.find(\"Month\") != -1) = ['~1Month', '1Month', 'IR-Month', 'Tri-Month', 'Semi-Month']\n",
      "\n",
      "Interval.get_all_dss_names() = ['IR-Day', 'IR-Month', 'IR-Year', 'IR-Decade', 'IR-Century', '~1Minute', '~2Minute', '~3Minute', '~4Minute', '~5Minute', '~6Minute', '~10Minute', '~12Minute', '~15Minute', '~20Minute', '~30Minute', '~1Hour', '~2Hour', '~3Hour', '~4Hour', '~6Hour', '~8Hour', '~12Hour', '~1Day', '~2Day', '~3Day', '~4Day', '~5Day', '~6Day', '~1Week', '~1Month', '~1Year', '1Minute', '2Minute', '3Minute', '4Minute', '5Minute', '6Minute', '10Minute', '12Minute', '15Minute', '20Minute', '30Minute', '1Hour', '2Hour', '3Hour', '4Hour', '6Hour', '8Hour', '12Hour', '1Day', '2Day', '3Day', '4Day', '5Day', '6Day', '1Week', 'Tri-Month', 'Semi-Month', '1Month', '1Year']\n",
      "\n",
      "Interval.get_all_cwms_names() = ['0', 'Irr', '~1Minute', '~2Minutes', '~3Minutes', '~4Minutes', '~5Minutes', '~6Minutes', '~10Minutes', '~12Minutes', '~15Minutes', '~20Minutes', '~30Minutes', '~1Hour', '~2Hours', '~3Hours', '~4Hours', '~6Hours', '~8Hours', '~12Hours', '~1Day', '~2Days', '~3Days', '~4Days', '~5Days', '~6Days', '~1Week', '~1Month', '~1Year', '1Minute', '2Minutes', '3Minutes', '4Minutes', '5Minutes', '6Minutes', '10Minutes', '12Minutes', '15Minutes', '20Minutes', '30Minutes', '1Hour', '2Hours', '3Hours', '4Hours', '6Hours', '8Hours', '12Hours', '1Day', '2Days', '3Days', '4Days', '5Days', '6Days', '1Week', '1Month', '1Year']\n",
      "\n",
      "Interval.get_all_dss_block_names() = ['1Day', '1Month', '1Year', '1Decade', '1Century']\n",
      "\n",
      "Interval.MINUTES = {\n",
      "\t'0'          :        0,\n",
      "\t'Irr'        :        0,\n",
      "\t'~1Minute'   :        0,\n",
      "\t'~2Minutes'  :        2,\n",
      "\t'~3Minutes'  :        3,\n",
      "\t'~4Minutes'  :        4,\n",
      "\t'~5Minutes'  :        5,\n",
      "\t'~6Minutes'  :        6,\n",
      "\t'~10Minutes' :       10,\n",
      "\t'~12Minutes' :       12,\n",
      "\t'~15Minutes' :       15,\n",
      "\t'~20Minutes' :       20,\n",
      "\t'~30Minutes' :       30,\n",
      "\t'~1Hour'     :        0,\n",
      "\t'~2Hours'    :      120,\n",
      "\t'~3Hours'    :      180,\n",
      "\t'~4Hours'    :      240,\n",
      "\t'~6Hours'    :      360,\n",
      "\t'~8Hours'    :      480,\n",
      "\t'~12Hours'   :      720,\n",
      "\t'~1Day'      :        0,\n",
      "\t'~2Days'     :     2880,\n",
      "\t'~3Days'     :     4320,\n",
      "\t'~4Days'     :     5760,\n",
      "\t'~5Days'     :     7200,\n",
      "\t'~6Days'     :     8640,\n",
      "\t'~1Week'     :        0,\n",
      "\t'~1Month'    :        0,\n",
      "\t'~1Year'     :        0,\n",
      "\t'1Minute'    :        1,\n",
      "\t'2Minutes'   :        2,\n",
      "\t'3Minutes'   :        3,\n",
      "\t'4Minutes'   :        4,\n",
      "\t'5Minutes'   :        5,\n",
      "\t'6Minutes'   :        6,\n",
      "\t'10Minutes'  :       10,\n",
      "\t'12Minutes'  :       12,\n",
      "\t'15Minutes'  :       15,\n",
      "\t'20Minutes'  :       20,\n",
      "\t'30Minutes'  :       30,\n",
      "\t'1Hour'      :       60,\n",
      "\t'2Hours'     :      120,\n",
      "\t'3Hours'     :      180,\n",
      "\t'4Hours'     :      240,\n",
      "\t'6Hours'     :      360,\n",
      "\t'8Hours'     :      480,\n",
      "\t'12Hours'    :      720,\n",
      "\t'1Day'       :     1440,\n",
      "\t'2Days'      :     2880,\n",
      "\t'3Days'      :     4320,\n",
      "\t'4Days'      :     5760,\n",
      "\t'5Days'      :     7200,\n",
      "\t'6Days'      :     8640,\n",
      "\t'1Week'      :    10080,\n",
      "\t'1Month'     :    43200,\n",
      "\t'1Year'      :   525600,\n",
      "\t'IR-Day'     :        0,\n",
      "\t'IR-Month'   :        0,\n",
      "\t'IR-Year'    :        0,\n",
      "\t'IR-Decade'  :        0,\n",
      "\t'IR-Century' :        0,\n",
      "\t'~2Minute'   :        0,\n",
      "\t'~3Minute'   :        0,\n",
      "\t'~4Minute'   :        0,\n",
      "\t'~5Minute'   :        0,\n",
      "\t'~6Minute'   :        0,\n",
      "\t'~10Minute'  :        0,\n",
      "\t'~12Minute'  :        0,\n",
      "\t'~15Minute'  :        0,\n",
      "\t'~20Minute'  :        0,\n",
      "\t'~30Minute'  :        0,\n",
      "\t'~2Hour'     :        0,\n",
      "\t'~3Hour'     :        0,\n",
      "\t'~4Hour'     :        0,\n",
      "\t'~6Hour'     :        0,\n",
      "\t'~8Hour'     :        0,\n",
      "\t'~12Hour'    :        0,\n",
      "\t'~2Day'      :        0,\n",
      "\t'~3Day'      :        0,\n",
      "\t'~4Day'      :        0,\n",
      "\t'~5Day'      :        0,\n",
      "\t'~6Day'      :        0,\n",
      "\t'2Minute'    :        2,\n",
      "\t'3Minute'    :        3,\n",
      "\t'4Minute'    :        4,\n",
      "\t'5Minute'    :        5,\n",
      "\t'6Minute'    :        6,\n",
      "\t'10Minute'   :       10,\n",
      "\t'12Minute'   :       12,\n",
      "\t'15Minute'   :       15,\n",
      "\t'20Minute'   :       20,\n",
      "\t'30Minute'   :       30,\n",
      "\t'2Hour'      :      120,\n",
      "\t'3Hour'      :      180,\n",
      "\t'4Hour'      :      240,\n",
      "\t'6Hour'      :      360,\n",
      "\t'8Hour'      :      480,\n",
      "\t'12Hour'     :      720,\n",
      "\t'2Day'       :     2880,\n",
      "\t'3Day'       :     4320,\n",
      "\t'4Day'       :     5760,\n",
      "\t'5Day'       :     7200,\n",
      "\t'6Day'       :     8640,\n",
      "\t'Tri-Month'  :    14400,\n",
      "\t'Semi-Month' :    21600,\n",
      "\t'1Decade'    :  5256000,\n",
      "\t'1Century'   : 52560000,\n",
      "}\n"
     ]
    }
   ],
   "source": [
    "intvls = Interval.get_all(lambda i: i.name.startswith(\"2Hour\"))\n",
    "print(f'\\nInterval.get_all(lambda i: i.name.startswith(\"2Hour\")) = {intvls}')\n",
    "\n",
    "names = Interval.get_all_dss_names(lambda i: i.name.find(\"Month\") != -1)\n",
    "print(\n",
    "    f'\\nintvl = Interval.get_all_dss_names(lambda i: i.name.find(\"Month\") != -1) = {names}'\n",
    ")\n",
    "\n",
    "names = Interval.get_all_cwms_names(lambda i: i.name.find(\"Month\") != -1)\n",
    "print(\n",
    "    f'\\nintvl = Interval.get_all_cwms_names(lambda i: i.name.find(\"Month\") != -1) = {names}'\n",
    ")\n",
    "\n",
    "names = Interval.get_all_names(lambda i: i.name.find(\"Month\") != -1)\n",
    "print(\n",
    "    f'\\nintvl = Interval.get_all_names(lambda i: i.name.find(\"Month\") != -1) = {names}'\n",
    ")\n",
    "print(f\"\\nInterval.get_all_dss_names() = {Interval.get_all_dss_names()}\")\n",
    "print(f\"\\nInterval.get_all_cwms_names() = {Interval.get_all_cwms_names()}\")\n",
    "print(f\"\\nInterval.get_all_dss_block_names() = {Interval.get_all_dss_block_names()}\")\n",
    "print(\"\\nInterval.MINUTES = {\")\n",
    "for k in Interval.MINUTES:\n",
    "    kk = f\"'{k}'\"\n",
    "    print(f\"\\t{kk.ljust(12)} : {Interval.MINUTES[k]:8d},\")\n",
    "print(\"}\")"
   ]
  }
 ],
 "metadata": {
  "kernelspec": {
   "display_name": "python_3_9",
   "language": "python",
   "name": "python3"
  },
  "language_info": {
   "codemirror_mode": {
    "name": "ipython",
    "version": 3
   },
   "file_extension": ".py",
   "mimetype": "text/x-python",
   "name": "python",
   "nbconvert_exporter": "python",
   "pygments_lexer": "ipython3",
   "version": "3.9.19"
  }
 },
 "nbformat": 4,
 "nbformat_minor": 2
}
