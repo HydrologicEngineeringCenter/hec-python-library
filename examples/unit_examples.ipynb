{
 "cells": [
  {
   "cell_type": "markdown",
   "metadata": {},
   "source": [
    "## Example Usage of hec.unit Module ##"
   ]
  },
  {
   "cell_type": "markdown",
   "metadata": {},
   "source": [
    "### Setup ###"
   ]
  },
  {
   "cell_type": "code",
   "execution_count": 25,
   "metadata": {},
   "outputs": [],
   "source": [
    "import os, sys\n",
    "\n",
    "srcdir = os.path.join(os.path.dirname(os.getcwd()), \"src\")\n",
    "sys.path.append(srcdir)\n",
    "from hec import unit  # type: ignore\n",
    "from hec.unit import UnitQuantity as UQ # type: ignore\n",
    "from datetime import datetime\n",
    "from datetime import timedelta\n",
    "from datetime import timezone\n",
    "import cwms # type: ignore"
   ]
  },
  {
   "cell_type": "markdown",
   "metadata": {},
   "source": [
    "### Get Some Unit Names"
   ]
  },
  {
   "cell_type": "code",
   "execution_count": 26,
   "metadata": {},
   "outputs": [
    {
     "name": "stdout",
     "output_type": "stream",
     "text": [
      "length units  = ['cm', 'ft', 'ftUS', 'in', 'km', 'm', 'mi', 'mm']\n",
      "area units    = ['1000 m2', 'acre', 'cm2', 'ft2', 'ha', 'km2', 'm2', 'mile2']\n",
      "volumne units = ['1000 m3', 'ac-ft', 'dsf', 'ft3', 'gal', 'kaf', 'kdsf', 'kgal', 'km3', 'm3', 'mcm', 'mgal', 'mile3']\n",
      "flow units    = ['cfs', 'cms', 'gpm', 'KAF/mon', 'kcfs', 'kcms', 'mcm/mon', 'mgd']\n"
     ]
    }
   ],
   "source": [
    "print(f\"length units  = {unit.get_compatible_units('foot')}\")\n",
    "print(f\"area units    = {unit.get_compatible_units('foot**2')}\")\n",
    "print(f\"volumne units = {unit.get_compatible_units('foot**3')}\")\n",
    "print(f\"flow units    = {unit.get_compatible_units('ft**3/s')}\")"
   ]
  },
  {
   "cell_type": "markdown",
   "metadata": {},
   "source": [
    "### Get Aliases For a Unit"
   ]
  },
  {
   "cell_type": "code",
   "execution_count": 27,
   "metadata": {},
   "outputs": [
    {
     "name": "stdout",
     "output_type": "stream",
     "text": [
      "Aliases for ft  = ['FEET', 'FT', 'Feet', 'feet', 'foot']\n",
      "Aliases for ft2 = ['sq ft', 'square feet']\n",
      "Aliases for ft3 = ['cu ft', 'cubic feet']\n",
      "Aliases for cfs = ['CFS', 'FT3/S', 'FT3/SEC', 'cu-ft/sec', 'cuft/sec', 'cusecs', 'ft3/s', 'ft3/sec', 'ft^3/s']\n"
     ]
    }
   ],
   "source": [
    "print(f\"Aliases for ft  = {unit.get_unit_aliases('ft')}\")\n",
    "print(f\"Aliases for ft2 = {unit.get_unit_aliases('ft2')}\")\n",
    "print(f\"Aliases for ft3 = {unit.get_unit_aliases('ft3')}\")\n",
    "print(f\"Aliases for cfs = {unit.get_unit_aliases('cfs')}\")"
   ]
  },
  {
   "cell_type": "markdown",
   "metadata": {},
   "source": [
    "### Scalar Unit Conversions"
   ]
  },
  {
   "cell_type": "code",
   "execution_count": 28,
   "metadata": {},
   "outputs": [
    {
     "name": "stdout",
     "output_type": "stream",
     "text": [
      "1 mile = 5280.0 feet\n",
      "1 hectare = 2.4710538146716536 acres\n"
     ]
    }
   ],
   "source": [
    "print(f\"1 mile = {unit.convert_units(1, 'mi', 'ft')} feet\")\n",
    "print(f\"1 hectare = {unit.convert_units(1, 'ha', 'acre',)} acres\")"
   ]
  },
  {
   "cell_type": "markdown",
   "metadata": {},
   "source": [
    "### Converting Time Series from CWMS Python"
   ]
  },
  {
   "cell_type": "code",
   "execution_count": 29,
   "metadata": {},
   "outputs": [
    {
     "name": "stdout",
     "output_type": "stream",
     "text": [
      "\n",
      "=== As Retrieved from Database ===\n",
      "Elev units     = m\n",
      "Elev values    = [219.465144, 219.465144, 219.465144, 219.462096, 219.462096, 219.465144]\n",
      "Vertical datum = {'office': 'SWT', 'unit': 'm', 'location': 'KEYS', 'native-datum': 'NGVD-29', 'elevation': 187.522, 'offsets': [{'estimate': True, 'to-datum': 'NAVD-88', 'value': 0.1105}]}\n",
      "                  date-time       value  quality-code\n",
      "0 2024-10-01 14:00:00+00:00  219.465144             0\n",
      "1 2024-10-01 15:00:00+00:00  219.465144             0\n",
      "2 2024-10-01 16:00:00+00:00  219.465144             0\n",
      "3 2024-10-01 17:00:00+00:00  219.462096             0\n",
      "4 2024-10-01 18:00:00+00:00  219.462096             0\n",
      "5 2024-10-01 19:00:00+00:00  219.465144             0\n",
      "\n",
      "=== Converting Units (in_place = False) ===\n",
      "--- Converted Data ---\n",
      "Elev units     = ft\n",
      "Elev values    = [720.0300000000001, 720.0300000000001, 720.0300000000001, 720.02, 720.02, 720.0300000000001]\n",
      "Vertical datum = {'office': 'SWT', 'unit': 'm', 'location': 'KEYS', 'native-datum': 'NGVD-29', 'elevation': 187.522, 'offsets': [{'estimate': True, 'to-datum': 'NAVD-88', 'value': 0.1105}]}\n",
      "                  date-time   value  quality-code\n",
      "0 2024-10-01 14:00:00+00:00  720.03             0\n",
      "1 2024-10-01 15:00:00+00:00  720.03             0\n",
      "2 2024-10-01 16:00:00+00:00  720.03             0\n",
      "3 2024-10-01 17:00:00+00:00  720.02             0\n",
      "4 2024-10-01 18:00:00+00:00  720.02             0\n",
      "5 2024-10-01 19:00:00+00:00  720.03             0\n",
      "--- Original Data ---\n",
      "Elev units     = m\n",
      "Elev values    = [219.465144, 219.465144, 219.465144, 219.462096, 219.462096, 219.465144]\n",
      "Vertical datum = {'office': 'SWT', 'unit': 'm', 'location': 'KEYS', 'native-datum': 'NGVD-29', 'elevation': 187.522, 'offsets': [{'estimate': True, 'to-datum': 'NAVD-88', 'value': 0.1105}]}\n",
      "                  date-time       value  quality-code\n",
      "0 2024-10-01 14:00:00+00:00  219.465144             0\n",
      "1 2024-10-01 15:00:00+00:00  219.465144             0\n",
      "2 2024-10-01 16:00:00+00:00  219.465144             0\n",
      "3 2024-10-01 17:00:00+00:00  219.462096             0\n",
      "4 2024-10-01 18:00:00+00:00  219.462096             0\n",
      "5 2024-10-01 19:00:00+00:00  219.465144             0\n",
      "\n",
      "=== Converting Units (in_place = True) ===\n",
      "--- Original Data Has Been Overwritten---\n",
      "Elev units     = ft\n",
      "Elev values    = [720.0300000000001, 720.0300000000001, 720.0300000000001, 720.02, 720.02, 720.0300000000001]\n",
      "Vertical datum = {'office': 'SWT', 'unit': 'ft', 'location': 'KEYS', 'native-datum': 'NGVD-29', 'elevation': 615.2296587926509, 'offsets': [{'estimate': True, 'to-datum': 'NAVD-88', 'value': 0.36253280839895013}]}\n",
      "                  date-time   value  quality-code\n",
      "0 2024-10-01 14:00:00+00:00  720.03             0\n",
      "1 2024-10-01 15:00:00+00:00  720.03             0\n",
      "2 2024-10-01 16:00:00+00:00  720.03             0\n",
      "3 2024-10-01 17:00:00+00:00  720.02             0\n",
      "4 2024-10-01 18:00:00+00:00  720.02             0\n",
      "5 2024-10-01 19:00:00+00:00  720.03             0\n"
     ]
    }
   ],
   "source": [
    "elev = cwms.get_timeseries(\n",
    "    ts_id=\"Keys.Elev.Inst.1Hour.0.Ccp-rev\",\n",
    "    office_id=\"SWT\",\n",
    "    unit=\"m\",\n",
    "    begin=datetime.now(timezone.utc) - timedelta(hours=6),\n",
    ")\n",
    "print(\"\\n=== As Retrieved from Database ===\")\n",
    "print(f\"Elev units     = {elev.json['units']}\")\n",
    "print(f\"Elev values    = {[v[1] for v in elev.json['values']]}\")\n",
    "print(f\"Vertical datum = {elev.json['vertical-datum-info']}\")\n",
    "print(elev.df)\n",
    "print(\"\\n=== Converting Units (in_place = False) ===\")\n",
    "elev2 = unit.convert_units(elev, elev.json[\"units\"], \"ft\", in_place=False)\n",
    "print(\"--- Converted Data ---\")\n",
    "print(f\"Elev units     = {elev2.json['units']}\")\n",
    "print(f\"Elev values    = {[v[1] for v in elev2.json['values']]}\")\n",
    "print(f\"Vertical datum = {elev.json['vertical-datum-info']}\")\n",
    "print(elev2.df)\n",
    "print(\"--- Original Data ---\")\n",
    "print(f\"Elev units     = {elev.json['units']}\")\n",
    "print(f\"Elev values    = {[v[1] for v in elev.json['values']]}\")\n",
    "print(f\"Vertical datum = {elev.json['vertical-datum-info']}\")\n",
    "print(elev.df)\n",
    "print(\"\\n=== Converting Units (in_place = True) ===\")\n",
    "unit.convert_units(elev, elev.json[\"units\"], \"ft\", in_place=True)\n",
    "print(\"--- Original Data Has Been Overwritten---\")\n",
    "print(f\"Elev units     = {elev.json['units']}\")\n",
    "print(f\"Elev values    = {[v[1] for v in elev.json['values']]}\")\n",
    "print(f\"Vertical datum = {elev.json['vertical-datum-info']}\")\n",
    "print(elev.df)"
   ]
  },
  {
   "cell_type": "markdown",
   "metadata": {},
   "source": [
    "### Using UnitQuantity Class"
   ]
  },
  {
   "cell_type": "code",
   "execution_count": 30,
   "metadata": {},
   "outputs": [
    {
     "name": "stdout",
     "output_type": "stream",
     "text": [
      "20000 acre * 10 foot = 200000 acre·ft\n",
      "200000.0 ac-ft\n",
      "200000 acre * foot\n",
      "200000 acre·ft\n",
      "100833.33333333336 dsf\n",
      "100833 d·ft³/s\n",
      "246.70 mcm\n",
      "Magnitude = 246.69636750950397\n",
      "Unit = Mcm\n",
      "Specified unit = mcm\n",
      "Dimensionality = [length] ** 3\n",
      "Unit aliases = ['1000000 m3']\n",
      "Compatible units = ['1000 m3', 'ac-ft', 'dsf', 'ft3', 'gal', 'kaf', 'kdsf', 'kgal', 'km3', 'm3', 'mcm', 'mgal', 'mile3']\n"
     ]
    }
   ],
   "source": [
    "area = UQ(20000, \"acre\")\n",
    "depth = UQ(\"10 ft\")\n",
    "volume = area * depth\n",
    "print(f\"{area} * {depth} = {volume:~P}\")\n",
    "print(volume.to(\"ac-ft\"))\n",
    "print(volume)\n",
    "print(f\"{volume:6.0f~P}\")\n",
    "print(volume.to(\"dsf\", in_place=True))\n",
    "print(f\"{volume:6.0f~P}\")\n",
    "volume.ito(\"mcm\")\n",
    "print(f\"{volume.magnitude:6.2f} {volume.specified_units}\")\n",
    "print(f\"Magnitude = {volume.magnitude}\")\n",
    "print(f\"Unit = {volume.units}\")\n",
    "print(f\"Specified unit = {volume.specified_units}\")\n",
    "print(f\"Dimensionality = {volume.dimensionality}\")\n",
    "print(f\"Unit aliases = {volume.getUnitAliases()}\")\n",
    "print(f\"Compatible units = {volume.getCompatibleUnits()}\")"
   ]
  }
 ],
 "metadata": {
  "kernelspec": {
   "display_name": "python_3_9",
   "language": "python",
   "name": "python3"
  },
  "language_info": {
   "codemirror_mode": {
    "name": "ipython",
    "version": 3
   },
   "file_extension": ".py",
   "mimetype": "text/x-python",
   "name": "python",
   "nbconvert_exporter": "python",
   "pygments_lexer": "ipython3",
   "version": "3.9.19"
  }
 },
 "nbformat": 4,
 "nbformat_minor": 2
}
