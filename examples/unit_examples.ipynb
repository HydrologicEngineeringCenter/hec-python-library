{
 "cells": [
  {
   "cell_type": "markdown",
   "metadata": {},
   "source": [
    "## Example Usage of hec.unit Module ##"
   ]
  },
  {
   "cell_type": "markdown",
   "metadata": {},
   "source": [
    "### Setup ###"
   ]
  },
  {
   "cell_type": "code",
   "execution_count": 12,
   "metadata": {},
   "outputs": [],
   "source": [
    "import os, sys\n",
    "\n",
    "srcdir = os.path.join(os.path.dirname(os.getcwd()), \"src\")\n",
    "sys.path.append(srcdir)\n",
    "from hec import unit  # type: ignore\n",
    "from hec.unit import UnitQuantity as UQ  # type: ignore\n",
    "from datetime import datetime\n",
    "from datetime import timedelta\n",
    "from datetime import timezone\n",
    "import cwms  # type: ignore"
   ]
  },
  {
   "cell_type": "markdown",
   "metadata": {},
   "source": [
    "### Get Some Unit Names"
   ]
  },
  {
   "cell_type": "code",
   "execution_count": 26,
   "metadata": {},
   "outputs": [
    {
     "name": "stdout",
     "output_type": "stream",
     "text": [
      "length units  = ['cm', 'ft', 'ftUS', 'in', 'km', 'm', 'mi', 'mm']\n",
      "area units    = ['1000 m2', 'acre', 'cm2', 'ft2', 'ha', 'km2', 'm2', 'mile2']\n",
      "volumne units = ['1000 m3', 'ac-ft', 'dsf', 'ft3', 'gal', 'kaf', 'kdsf', 'kgal', 'km3', 'm3', 'mcm', 'mgal', 'mile3']\n",
      "flow units    = ['cfs', 'cms', 'gpm', 'KAF/mon', 'kcfs', 'kcms', 'mcm/mon', 'mgd']\n"
     ]
    }
   ],
   "source": [
    "print(f\"length units  = {unit.get_compatible_units('foot')}\")\n",
    "print(f\"area units    = {unit.get_compatible_units('foot**2')}\")\n",
    "print(f\"volumne units = {unit.get_compatible_units('foot**3')}\")\n",
    "print(f\"flow units    = {unit.get_compatible_units('ft**3/s')}\")"
   ]
  },
  {
   "cell_type": "markdown",
   "metadata": {},
   "source": [
    "### Unit Systems"
   ]
  },
  {
   "cell_type": "code",
   "execution_count": 6,
   "metadata": {},
   "outputs": [
    {
     "name": "stdout",
     "output_type": "stream",
     "text": [
      "Unit system of 'ft' = EN\n",
      "Unit system of 'cm' = SI\n",
      "Unit system of 'Hz' = None\n",
      "Available systems = ['EN', 'SI']\n",
      "Unit names for 'EN' = ['%', '$', '$/kaf', '1/ft', 'ac-ft', 'acre', 'ampere', 'B', 'bar', 'cal', 'cfs', 'cfs/mi2', 'day', 'deg', 'dsf', 'F-day', 'F', 'FNU', 'ft', 'ft/hr', 'ft/s', 'ft2', 'ft2/s', 'ft3', 'ftUS', 'gal', 'gm/cm3', 'gpm', 'GW', 'GWh', 'hr', 'Hz', 'in-hg', 'in', 'in/day', 'in/deg-day', 'in/hr', 'JTU', 'k$', 'kaf', 'KAF/mon', 'kcfs', 'kdsf', 'kgal', 'kHz', 'knot', 'kW', 'kWh', 'langley', 'langley/min', 'lb', 'lbm', 'lbm/ft3', 'mgal', 'mgd', 'mho', 'MHz', 'mi', 'mile2', 'mile3', 'min', 'mph', 'MW', 'MWh', 'n/a', 'NTU', 'ppm', 'psi', 'rad', 'rev', 'rpm', 'S', 'sec', 'su', 'ton', 'ton/day', 'TW', 'TWh', 'umho', 'umho/cm', 'unit', 'uS', 'volt', 'W', 'W/m2', 'Wh']\n",
      "Unit names for 'SI' = ['%', '$', '$/mcm', '1/m', '1000 m2', '1000 m3', 'acre', 'ampere', 'B', 'bar', 'C-day', 'C', 'cm', 'cm/day', 'cm2', 'cms', 'cms/km2', 'day', 'deg', 'FNU', 'g', 'g/l', 'g/m3', 'gm/cm3', 'GW', 'GWh', 'ha', 'hr', 'Hz', 'J', 'J/m2', 'JTU', 'K', 'k$', 'kcms', 'kg', 'kHz', 'km', 'km2', 'km3', 'kPa', 'kph', 'kW', 'kWh', 'langley', 'langley/min', 'm', 'm/day', 'm/hr', 'm/s', 'm2', 'm2/s', 'm3', 'mb', 'mcm', 'mcm/mon', 'mg', 'mg/l', 'mho', 'MHz', 'min', 'MJ', 'mm-hg', 'mm', 'mm/day', 'mm/deg-day', 'mm/hr', 'MW', 'MWh', 'N', 'n/a', 'NTU', 'ppm', 'rad', 'rev', 'rpm', 'S', 'sec', 'su', 'tonne', 'tonne/day', 'TW', 'TWh', 'ug', 'ug/l', 'umho', 'umho/cm', 'unit', 'uS', 'volt', 'W', 'W/m2', 'Wh']\n",
      "Unit names for Both = ['%', '$', 'acre', 'ampere', 'B', 'bar', 'day', 'deg', 'FNU', 'gm/cm3', 'GW', 'GWh', 'hr', 'Hz', 'JTU', 'k$', 'kHz', 'kW', 'kWh', 'langley', 'langley/min', 'mho', 'MHz', 'min', 'MW', 'MWh', 'n/a', 'NTU', 'ppm', 'rad', 'rev', 'rpm', 'S', 'sec', 'su', 'TW', 'TWh', 'umho', 'umho/cm', 'unit', 'uS', 'volt', 'W', 'W/m2', 'Wh']\n"
     ]
    }
   ],
   "source": [
    "print(f\"Unit system of 'ft' = {unit.get_unit_system('ft')}\")\n",
    "print(f\"Unit system of 'cm' = {unit.get_unit_system('cm')}\")\n",
    "print(f\"Unit system of 'Hz' = {unit.get_unit_system('Hz')}\")\n",
    "print(f\"Available systems = {[u for u in unit.unit_names_by_unit_system]}\")\n",
    "print(f\"Unit names for 'EN' = {unit.get_unit_names_for_unit_system('EN')}\")\n",
    "print(f\"Unit names for 'SI' = {unit.get_unit_names_for_unit_system('SI')}\")\n",
    "print(f\"Unit names for Both = {unit.get_unit_names_for_unit_system(None)}\")"
   ]
  },
  {
   "cell_type": "markdown",
   "metadata": {},
   "source": [
    "### Get Aliases For a Unit"
   ]
  },
  {
   "cell_type": "code",
   "execution_count": 27,
   "metadata": {},
   "outputs": [
    {
     "name": "stdout",
     "output_type": "stream",
     "text": [
      "Aliases for ft  = ['FEET', 'FT', 'Feet', 'feet', 'foot']\n",
      "Aliases for ft2 = ['sq ft', 'square feet']\n",
      "Aliases for ft3 = ['cu ft', 'cubic feet']\n",
      "Aliases for cfs = ['CFS', 'FT3/S', 'FT3/SEC', 'cu-ft/sec', 'cuft/sec', 'cusecs', 'ft3/s', 'ft3/sec', 'ft^3/s']\n"
     ]
    }
   ],
   "source": [
    "print(f\"Aliases for ft  = {unit.get_unit_aliases('ft')}\")\n",
    "print(f\"Aliases for ft2 = {unit.get_unit_aliases('ft2')}\")\n",
    "print(f\"Aliases for ft3 = {unit.get_unit_aliases('ft3')}\")\n",
    "print(f\"Aliases for cfs = {unit.get_unit_aliases('cfs')}\")"
   ]
  },
  {
   "cell_type": "markdown",
   "metadata": {},
   "source": [
    "### Scalar Unit Conversions"
   ]
  },
  {
   "cell_type": "code",
   "execution_count": 28,
   "metadata": {},
   "outputs": [
    {
     "name": "stdout",
     "output_type": "stream",
     "text": [
      "1 mile = 5280.0 feet\n",
      "1 hectare = 2.4710538146716536 acres\n"
     ]
    }
   ],
   "source": [
    "print(f\"1 mile = {unit.convert_units(1, 'mi', 'ft')} feet\")\n",
    "print(f\"1 hectare = {unit.convert_units(1, 'ha', 'acre',)} acres\")"
   ]
  },
  {
   "cell_type": "markdown",
   "metadata": {},
   "source": [
    "### Converting Time Series from CWMS Python"
   ]
  },
  {
   "cell_type": "code",
   "execution_count": 20,
   "metadata": {},
   "outputs": [
    {
     "name": "stdout",
     "output_type": "stream",
     "text": [
      "\n",
      "=== As Retrieved from Database ===\n",
      "Elev units     = m\n",
      "Elev values    = [219.449904, 219.449904, 219.449904, 219.449904, 219.449904, 219.452952]\n",
      "Vertical datum = {'office': 'SWT', 'unit': 'm', 'location': 'KEYS', 'native-datum': 'NGVD-29', 'elevation': 187.522, 'offsets': [{'estimate': True, 'to-datum': 'NAVD-88', 'value': 0.1105}]}\n",
      "{'office': 'SWT', 'unit': 'm', 'location': 'KEYS', 'native-datum': 'NGVD-29', 'elevation': 187.522, 'offsets': [{'estimate': True, 'to-datum': 'NAVD-88', 'value': 0.1105}]}\n",
      "                  date-time       value  quality-code\n",
      "0 2024-10-04 13:00:00+00:00  219.449904             0\n",
      "1 2024-10-04 14:00:00+00:00  219.449904             0\n",
      "2 2024-10-04 15:00:00+00:00  219.449904             0\n",
      "3 2024-10-04 16:00:00+00:00  219.449904             0\n",
      "4 2024-10-04 17:00:00+00:00  219.449904             0\n",
      "5 2024-10-04 18:00:00+00:00  219.452952             0\n",
      "\n",
      "=== Converting Units (in_place = False) ===\n",
      "--- Converted Data ---\n",
      "Elev units     = ft\n",
      "Elev values    = [719.98, 719.98, 719.98, 719.98, 719.98, 719.99]\n",
      "Vertical datum = {'office': 'SWT', 'unit': 'm', 'location': 'KEYS', 'native-datum': 'NGVD-29', 'elevation': 187.522, 'offsets': [{'estimate': True, 'to-datum': 'NAVD-88', 'value': 0.1105}]}\n",
      "                  date-time   value  quality-code\n",
      "0 2024-10-04 13:00:00+00:00  719.98             0\n",
      "1 2024-10-04 14:00:00+00:00  719.98             0\n",
      "2 2024-10-04 15:00:00+00:00  719.98             0\n",
      "3 2024-10-04 16:00:00+00:00  719.98             0\n",
      "4 2024-10-04 17:00:00+00:00  719.98             0\n",
      "5 2024-10-04 18:00:00+00:00  719.99             0\n",
      "--- Original Data ---\n",
      "Elev units     = m\n",
      "Elev values    = [219.449904, 219.449904, 219.449904, 219.449904, 219.449904, 219.452952]\n",
      "Vertical datum = {'office': 'SWT', 'unit': 'm', 'location': 'KEYS', 'native-datum': 'NGVD-29', 'elevation': 187.522, 'offsets': [{'estimate': True, 'to-datum': 'NAVD-88', 'value': 0.1105}]}\n",
      "                  date-time       value  quality-code\n",
      "0 2024-10-04 13:00:00+00:00  219.449904             0\n",
      "1 2024-10-04 14:00:00+00:00  219.449904             0\n",
      "2 2024-10-04 15:00:00+00:00  219.449904             0\n",
      "3 2024-10-04 16:00:00+00:00  219.449904             0\n",
      "4 2024-10-04 17:00:00+00:00  219.449904             0\n",
      "5 2024-10-04 18:00:00+00:00  219.452952             0\n",
      "\n",
      "=== Converting Units (in_place = True) ===\n",
      "--- Original Data Has Been Overwritten---\n",
      "Elev units     = ft\n",
      "Elev values    = [719.98, 719.98, 719.98, 719.98, 719.98, 719.99]\n",
      "Vertical datum = {'office': 'SWT', 'unit': 'ft', 'location': 'KEYS', 'native-datum': 'NGVD-29', 'elevation': 615.2296587926509, 'offsets': [{'estimate': True, 'to-datum': 'NAVD-88', 'value': 0.36253280839895013}]}\n",
      "                  date-time   value  quality-code\n",
      "0 2024-10-04 13:00:00+00:00  719.98             0\n",
      "1 2024-10-04 14:00:00+00:00  719.98             0\n",
      "2 2024-10-04 15:00:00+00:00  719.98             0\n",
      "3 2024-10-04 16:00:00+00:00  719.98             0\n",
      "4 2024-10-04 17:00:00+00:00  719.98             0\n",
      "5 2024-10-04 18:00:00+00:00  719.99             0\n"
     ]
    }
   ],
   "source": [
    "elev = cwms.get_timeseries(\n",
    "    ts_id=\"Keys.Elev.Inst.1Hour.0.Ccp-rev\",\n",
    "    office_id=\"SWT\",\n",
    "    unit=\"m\",\n",
    "    begin=datetime.now(timezone.utc) - timedelta(hours=6),\n",
    ")\n",
    "print(\"\\n=== As Retrieved from Database ===\")\n",
    "print(f\"Elev units     = {elev.json['units']}\")\n",
    "print(f\"Elev values    = {[v[1] for v in elev.json['values']]}\")\n",
    "print(f\"Vertical datum = {elev.json['vertical-datum-info']}\")\n",
    "print(elev.json[\"vertical-datum-info\"])\n",
    "print(elev.df)\n",
    "print(\"\\n=== Converting Units (in_place = False) ===\")\n",
    "elev2 = unit.convert_units(elev, elev.json[\"units\"], \"ft\", in_place=False)\n",
    "print(\"--- Converted Data ---\")\n",
    "print(f\"Elev units     = {elev2.json['units']}\")\n",
    "print(f\"Elev values    = {[v[1] for v in elev2.json['values']]}\")\n",
    "print(f\"Vertical datum = {elev.json['vertical-datum-info']}\")\n",
    "print(elev2.df)\n",
    "print(\"--- Original Data ---\")\n",
    "print(f\"Elev units     = {elev.json['units']}\")\n",
    "print(f\"Elev values    = {[v[1] for v in elev.json['values']]}\")\n",
    "print(f\"Vertical datum = {elev.json['vertical-datum-info']}\")\n",
    "print(elev.df)\n",
    "print(\"\\n=== Converting Units (in_place = True) ===\")\n",
    "unit.convert_units(elev, elev.json[\"units\"], \"ft\", in_place=True)\n",
    "print(\"--- Original Data Has Been Overwritten---\")\n",
    "print(f\"Elev units     = {elev.json['units']}\")\n",
    "print(f\"Elev values    = {[v[1] for v in elev.json['values']]}\")\n",
    "print(f\"Vertical datum = {elev.json['vertical-datum-info']}\")\n",
    "print(elev.df)\n"
   ]
  },
  {
   "cell_type": "markdown",
   "metadata": {},
   "source": [
    "### Using UnitQuantity Class"
   ]
  },
  {
   "cell_type": "code",
   "execution_count": 30,
   "metadata": {},
   "outputs": [
    {
     "name": "stdout",
     "output_type": "stream",
     "text": [
      "20000 acre * 10 foot = 200000 acre·ft\n",
      "200000.0 ac-ft\n",
      "200000 acre * foot\n",
      "200000 acre·ft\n",
      "100833.33333333336 dsf\n",
      "100833 d·ft³/s\n",
      "246.70 mcm\n",
      "Magnitude = 246.69636750950397\n",
      "Unit = Mcm\n",
      "Specified unit = mcm\n",
      "Dimensionality = [length] ** 3\n",
      "Unit aliases = ['1000000 m3']\n",
      "Compatible units = ['1000 m3', 'ac-ft', 'dsf', 'ft3', 'gal', 'kaf', 'kdsf', 'kgal', 'km3', 'm3', 'mcm', 'mgal', 'mile3']\n"
     ]
    }
   ],
   "source": [
    "area = UQ(20000, \"acre\")\n",
    "depth = UQ(\"10 ft\")\n",
    "volume = area * depth\n",
    "print(f\"{area} * {depth} = {volume:~P}\")\n",
    "print(volume.to(\"ac-ft\"))\n",
    "print(volume)\n",
    "print(f\"{volume:6.0f~P}\")\n",
    "print(volume.to(\"dsf\", in_place=True))\n",
    "print(f\"{volume:6.0f~P}\")\n",
    "volume.ito(\"mcm\")\n",
    "print(f\"{volume.magnitude:6.2f} {volume.specified_units}\")\n",
    "print(f\"Magnitude = {volume.magnitude}\")\n",
    "print(f\"Unit = {volume.units}\")\n",
    "print(f\"Specified unit = {volume.specified_units}\")\n",
    "print(f\"Dimensionality = {volume.dimensionality}\")\n",
    "print(f\"Unit aliases = {volume.getUnitAliases()}\")\n",
    "print(f\"Compatible units = {volume.getCompatibleUnits()}\")"
   ]
  }
 ],
 "metadata": {
  "kernelspec": {
   "display_name": "python_3_9",
   "language": "python",
   "name": "python3"
  },
  "language_info": {
   "codemirror_mode": {
    "name": "ipython",
    "version": 3
   },
   "file_extension": ".py",
   "mimetype": "text/x-python",
   "name": "python",
   "nbconvert_exporter": "python",
   "pygments_lexer": "ipython3",
   "version": "3.9.19"
  }
 },
 "nbformat": 4,
 "nbformat_minor": 2
}
