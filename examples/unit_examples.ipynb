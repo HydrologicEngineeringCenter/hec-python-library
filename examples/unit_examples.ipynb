{
 "cells": [
  {
   "cell_type": "markdown",
   "metadata": {},
   "source": [
    "## Example Usage of hec.unit Module ##"
   ]
  },
  {
   "cell_type": "markdown",
   "metadata": {},
   "source": [
    "### Setup ###"
   ]
  },
  {
   "cell_type": "code",
   "execution_count": 19,
   "metadata": {},
   "outputs": [],
   "source": [
    "import os, sys\n",
    "\n",
    "srcdir = os.path.join(os.path.dirname(os.getcwd()), \"src\")\n",
    "sys.path.append(srcdir)\n",
    "from hec import unit  # type: ignore"
   ]
  },
  {
   "cell_type": "markdown",
   "metadata": {},
   "source": [
    "### Get Some Unit Names"
   ]
  },
  {
   "cell_type": "code",
   "execution_count": 20,
   "metadata": {},
   "outputs": [
    {
     "name": "stdout",
     "output_type": "stream",
     "text": [
      "length units  = ['cm', 'ft', 'ftUS', 'in', 'km', 'm', 'mi', 'mm']\n",
      "area units    = ['1000 m2', 'acre', 'cm2', 'ft2', 'ha', 'km2', 'm2', 'mile2']\n",
      "volumne units = ['1000 m3', 'ac-ft', 'dsf', 'ft3', 'gal', 'kaf', 'kdsf', 'kgal', 'km3', 'm3', 'mcm', 'mgal', 'mile3']\n",
      "flow units    = ['cfs', 'cms', 'gpm', 'KAF/mon', 'kcfs', 'kcms', 'mcm/mon', 'mgd']\n"
     ]
    }
   ],
   "source": [
    "print(f\"length units  = {unit.get_compatible_units('foot')}\")\n",
    "print(f\"area units    = {unit.get_compatible_units('foot**2')}\")\n",
    "print(f\"volumne units = {unit.get_compatible_units('foot**3')}\")\n",
    "print(f\"flow units    = {unit.get_compatible_units('ft**3/s')}\")"
   ]
  },
  {
   "cell_type": "markdown",
   "metadata": {},
   "source": [
    "### Get Aliases For a Unit"
   ]
  },
  {
   "cell_type": "code",
   "execution_count": 21,
   "metadata": {},
   "outputs": [
    {
     "name": "stdout",
     "output_type": "stream",
     "text": [
      "Aliases for ft  = ['FEET', 'FT', 'Feet', 'feet', 'foot']\n",
      "Aliases for ft2 = ['sq ft', 'square feet']\n",
      "Aliases for ft3 = ['cu ft', 'cubic feet']\n",
      "Aliases for cfs = ['CFS', 'FT3/S', 'FT3/SEC', 'cu-ft/sec', 'cuft/sec', 'cusecs', 'ft3/s', 'ft3/sec', 'ft^3/s']\n"
     ]
    }
   ],
   "source": [
    "print(f\"Aliases for ft  = {unit.get_unit_aliases('ft')}\")\n",
    "print(f\"Aliases for ft2 = {unit.get_unit_aliases('ft2')}\")\n",
    "print(f\"Aliases for ft3 = {unit.get_unit_aliases('ft3')}\")\n",
    "print(f\"Aliases for cfs = {unit.get_unit_aliases('cfs')}\")"
   ]
  },
  {
   "cell_type": "markdown",
   "metadata": {},
   "source": [
    "### Simple Unit Conversions"
   ]
  },
  {
   "cell_type": "code",
   "execution_count": 23,
   "metadata": {},
   "outputs": [
    {
     "name": "stdout",
     "output_type": "stream",
     "text": [
      "1 mile = 5280.0 feet\n",
      "1 hectare = 2.4710538146716536 acres\n"
     ]
    }
   ],
   "source": [
    "print(f\"1 mile = {unit.convert_units(1, 'mi', 'ft')} feet\")\n",
    "print(f\"1 hectare = {unit.convert_units(1, 'ha', 'acre',)} acres\")"
   ]
  },
  {
   "cell_type": "markdown",
   "metadata": {},
   "source": [
    "### Using Pint"
   ]
  },
  {
   "cell_type": "code",
   "execution_count": 33,
   "metadata": {},
   "outputs": [
    {
     "name": "stdout",
     "output_type": "stream",
     "text": [
      "10 acre * 50 ft = 500 acre·ft\n",
      "10 acre * 50 ft = 162.9257142857143 Mgal\n",
      "10 acre * 50 ft = 162.9257142857143 mgal\n",
      "10 acres * 50 feet = 162.9257142857143 megagallon\n"
     ]
    }
   ],
   "source": [
    "ureg = unit.get_unit_registry()\n",
    "ctx = unit.get_unit_context()\n",
    "u_acre = unit.get_pint_unit(\"acre\")\n",
    "u_ft = unit.get_pint_unit(\"ft\")\n",
    "u_mgal = unit.get_pint_unit(\"mgal\")\n",
    "area = 10 * u_acre\n",
    "depth = 50 * u_ft\n",
    "vol = area * depth\n",
    "vol_mgal = (area * depth).to(u_mgal, ctx)\n",
    "print(f\"{area:~P} * {depth:~P} = {vol:~P}\")\n",
    "print(f\"{area:~P} * {depth:~P} = {vol_mgal:~P}\")\n",
    "print(f\"{area:~P} * {depth:~P} = {vol_mgal.magnitude} {unit.get_unit_name(u_mgal)}\")\n",
    "print(\n",
    "    f\"10 acres * 50 feet = {(ureg('10 acres') * ureg('50 feet')).to(ureg('Mgal'), ctx)}\"\n",
    ")"
   ]
  }
 ],
 "metadata": {
  "kernelspec": {
   "display_name": "python_3_9",
   "language": "python",
   "name": "python3"
  },
  "language_info": {
   "codemirror_mode": {
    "name": "ipython",
    "version": 3
   },
   "file_extension": ".py",
   "mimetype": "text/x-python",
   "name": "python",
   "nbconvert_exporter": "python",
   "pygments_lexer": "ipython3",
   "version": "3.9.19"
  }
 },
 "nbformat": 4,
 "nbformat_minor": 2
}
