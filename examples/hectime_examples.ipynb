{
 "cells": [
  {
   "cell_type": "markdown",
   "metadata": {},
   "source": [
    "## Example Usage the HecTime Class ##"
   ]
  },
  {
   "cell_type": "markdown",
   "metadata": {},
   "source": [
    "### Setup ###"
   ]
  },
  {
   "cell_type": "code",
   "execution_count": 8,
   "metadata": {},
   "outputs": [],
   "source": [
    "import os, sys\n",
    "\n",
    "srcdir = os.path.join(os.path.dirname(os.getcwd()), \"src\")\n",
    "sys.path.append(srcdir)\n",
    "from hec.hectime import HecTime  # type: ignore\n",
    "from hec.interval import Interval  # type: ignore\n",
    "from IPython.display import display_html  # type: ignore"
   ]
  },
  {
   "cell_type": "markdown",
   "metadata": {},
   "source": [
    "### End-of-month 1Month intervals for a time window ###"
   ]
  },
  {
   "cell_type": "code",
   "execution_count": 9,
   "metadata": {},
   "outputs": [
    {
     "name": "stdout",
     "output_type": "stream",
     "text": [
      "2024-01-31T24:00:00\n",
      "2024-02-29T24:00:00\n",
      "2024-03-31T24:00:00\n",
      "2024-04-30T24:00:00\n",
      "2024-05-31T24:00:00\n",
      "2024-06-30T24:00:00\n",
      "2024-07-31T24:00:00\n",
      "2024-08-31T24:00:00\n",
      "2024-09-30T24:00:00\n",
      "2024-10-31T24:00:00\n",
      "2024-11-30T24:00:00\n",
      "2024-12-31T24:00:00\n"
     ]
    }
   ],
   "source": [
    "intvl = Interval.getDss(\"1Month\")\n",
    "start_time = HecTime(\"2024-01-31, 24:00\")\n",
    "end_time = start_time + \"1Y\"\n",
    "count = start_time.computeNumberIntervals(end_time, intvl)\n",
    "times = [start_time + f\"{i}M\" for i in range(count)]\n",
    "for t in times:\n",
    "    print(t)"
   ]
  },
  {
   "cell_type": "markdown",
   "metadata": {},
   "source": [
    "### LRTS Daily Times in UTC ###\n",
    "Note the transition from 13:00 to 12:00 (23 hour day) in the Spring DST transition and then back again (25 hour day) in the Autum DST transistion."
   ]
  },
  {
   "cell_type": "code",
   "execution_count": 10,
   "metadata": {},
   "outputs": [
    {
     "name": "stdout",
     "output_type": "stream",
     "text": [
      "2024-03-01T13:00:00+00:00\n",
      "2024-03-02T13:00:00+00:00\t24\n",
      "2024-03-03T13:00:00+00:00\t24\n",
      "2024-03-04T13:00:00+00:00\t24\n",
      "2024-03-05T13:00:00+00:00\t24\n",
      "2024-03-06T13:00:00+00:00\t24\n",
      "2024-03-07T13:00:00+00:00\t24\n",
      "2024-03-08T13:00:00+00:00\t24\n",
      "2024-03-09T13:00:00+00:00\t24\n",
      "2024-03-10T12:00:00+00:00\t23\n",
      "2024-03-11T12:00:00+00:00\t24\n",
      "2024-03-12T12:00:00+00:00\t24\n",
      "2024-03-13T12:00:00+00:00\t24\n",
      "2024-03-14T12:00:00+00:00\t24\n",
      "2024-03-15T12:00:00+00:00\t24\n",
      "2024-03-16T12:00:00+00:00\t24\n",
      "2024-03-17T12:00:00+00:00\t24\n",
      "2024-03-18T12:00:00+00:00\t24\n",
      "2024-03-19T12:00:00+00:00\t24\n",
      "2024-03-20T12:00:00+00:00\t24\n",
      "2024-03-21T12:00:00+00:00\t24\n",
      "2024-03-22T12:00:00+00:00\t24\n",
      "2024-03-23T12:00:00+00:00\t24\n",
      "2024-03-24T12:00:00+00:00\t24\n",
      "2024-03-25T12:00:00+00:00\t24\n",
      "2024-03-26T12:00:00+00:00\t24\n",
      "2024-03-27T12:00:00+00:00\t24\n",
      "2024-03-28T12:00:00+00:00\t24\n",
      "2024-03-29T12:00:00+00:00\t24\n",
      "2024-03-30T12:00:00+00:00\t24\n",
      "\n",
      "2024-11-01T12:00:00+00:00\n",
      "2024-11-02T12:00:00+00:00\t24\n",
      "2024-11-03T13:00:00+00:00\t25\n",
      "2024-11-04T13:00:00+00:00\t24\n",
      "2024-11-05T13:00:00+00:00\t24\n",
      "2024-11-06T13:00:00+00:00\t24\n",
      "2024-11-07T13:00:00+00:00\t24\n",
      "2024-11-08T13:00:00+00:00\t24\n",
      "2024-11-09T13:00:00+00:00\t24\n",
      "2024-11-10T13:00:00+00:00\t24\n",
      "2024-11-11T13:00:00+00:00\t24\n",
      "2024-11-12T13:00:00+00:00\t24\n",
      "2024-11-13T13:00:00+00:00\t24\n",
      "2024-11-14T13:00:00+00:00\t24\n",
      "2024-11-15T13:00:00+00:00\t24\n",
      "2024-11-16T13:00:00+00:00\t24\n",
      "2024-11-17T13:00:00+00:00\t24\n",
      "2024-11-18T13:00:00+00:00\t24\n",
      "2024-11-19T13:00:00+00:00\t24\n",
      "2024-11-20T13:00:00+00:00\t24\n",
      "2024-11-21T13:00:00+00:00\t24\n",
      "2024-11-22T13:00:00+00:00\t24\n",
      "2024-11-23T13:00:00+00:00\t24\n",
      "2024-11-24T13:00:00+00:00\t24\n",
      "2024-11-25T13:00:00+00:00\t24\n",
      "2024-11-26T13:00:00+00:00\t24\n",
      "2024-11-27T13:00:00+00:00\t24\n",
      "2024-11-28T13:00:00+00:00\t24\n",
      "2024-11-29T13:00:00+00:00\t24\n",
      "\n"
     ]
    }
   ],
   "source": [
    "intvl = Interval.getCwms(\"1Day\")\n",
    "offset = 7 * Interval.MINUTES[\"1Hour\"]\n",
    "for month in (\"Mar\", \"Nov\"):\n",
    "    start_time = HecTime(f\"01{month}2024, 00:00\").atTimeZone(\"US/Central\")\n",
    "    end_time = start_time + \"1M\"\n",
    "    first_time = HecTime(start_time)\n",
    "    if first_time.adjustToIntervalOffset(intvl, offset) < start_time:\n",
    "        first_time.increment(1, intvl)\n",
    "    count = first_time.computeNumberIntervals(end_time, intvl)\n",
    "    times = [(first_time + f\"{i}D\").astimezone(\"UTC\") for i in range(count)]\n",
    "    prev = None\n",
    "    for t in times:\n",
    "        if prev:\n",
    "            print(f\"{t}\\t{(t-prev).total_seconds() // 3600}\")\n",
    "        else:\n",
    "            print(t)\n",
    "        prev = t\n",
    "    print(\"\")"
   ]
  },
  {
   "cell_type": "markdown",
   "metadata": {},
   "source": [
    "### Show Interval Boundaries for Current Time for All Intervals ###"
   ]
  },
  {
   "cell_type": "code",
   "execution_count": 11,
   "metadata": {},
   "outputs": [
    {
     "name": "stdout",
     "output_type": "stream",
     "text": [
      "Current Time\t\tIntvl\tTop of Prev\t\tTop of Next\n",
      "2024-10-01T14:27:00\tPT1M\t2024-10-01T14:27:00\t2024-10-01T14:28:00\n",
      "2024-10-01T14:27:00\tPT2M\t2024-10-01T14:26:00\t2024-10-01T14:28:00\n",
      "2024-10-01T14:27:00\tPT3M\t2024-10-01T14:27:00\t2024-10-01T14:30:00\n",
      "2024-10-01T14:27:00\tPT4M\t2024-10-01T14:24:00\t2024-10-01T14:28:00\n",
      "2024-10-01T14:27:00\tPT5M\t2024-10-01T14:25:00\t2024-10-01T14:30:00\n",
      "2024-10-01T14:27:00\tPT6M\t2024-10-01T14:24:00\t2024-10-01T14:30:00\n",
      "2024-10-01T14:27:00\tPT10M\t2024-10-01T14:20:00\t2024-10-01T14:30:00\n",
      "2024-10-01T14:27:00\tPT12M\t2024-10-01T14:24:00\t2024-10-01T14:36:00\n",
      "2024-10-01T14:27:00\tPT15M\t2024-10-01T14:15:00\t2024-10-01T14:30:00\n",
      "2024-10-01T14:27:00\tPT20M\t2024-10-01T14:20:00\t2024-10-01T14:40:00\n",
      "2024-10-01T14:27:00\tPT30M\t2024-10-01T14:00:00\t2024-10-01T14:30:00\n",
      "2024-10-01T14:27:00\tPT1H\t2024-10-01T14:00:00\t2024-10-01T15:00:00\n",
      "2024-10-01T14:27:00\tPT2H\t2024-10-01T14:00:00\t2024-10-01T16:00:00\n",
      "2024-10-01T14:27:00\tPT3H\t2024-10-01T12:00:00\t2024-10-01T15:00:00\n",
      "2024-10-01T14:27:00\tPT4H\t2024-10-01T12:00:00\t2024-10-01T16:00:00\n",
      "2024-10-01T14:27:00\tPT6H\t2024-10-01T12:00:00\t2024-10-01T18:00:00\n",
      "2024-10-01T14:27:00\tPT8H\t2024-10-01T08:00:00\t2024-10-01T16:00:00\n",
      "2024-10-01T14:27:00\tPT12H\t2024-10-01T12:00:00\t2024-10-02T00:00:00\n",
      "2024-10-01T14:27:00\tP1D\t2024-10-01T00:00:00\t2024-10-02T00:00:00\n",
      "2024-10-01T14:27:00\tP2D\t2024-09-30T00:00:00\t2024-10-02T00:00:00\n",
      "2024-10-01T14:27:00\tP3D\t2024-09-30T00:00:00\t2024-10-03T00:00:00\n",
      "2024-10-01T14:27:00\tP4D\t2024-09-30T00:00:00\t2024-10-04T00:00:00\n",
      "2024-10-01T14:27:00\tP5D\t2024-10-01T00:00:00\t2024-10-06T00:00:00\n",
      "2024-10-01T14:27:00\tP6D\t2024-09-30T00:00:00\t2024-10-06T00:00:00\n",
      "2024-10-01T14:27:00\tP7D\t2024-09-29T00:00:00\t2024-10-06T00:00:00\n",
      "2024-10-01T14:27:00\tP1M\t2024-10-01T00:00:00\t2024-11-01T00:00:00\n",
      "2024-10-01T14:27:00\tP1Y\t2024-01-01T00:00:00\t2025-01-01T00:00:00\n",
      "2024-10-01T14:27:00\tPT1M\t2024-10-01T14:27:00\t2024-10-01T14:28:00\n",
      "2024-10-01T14:27:00\tPT2M\t2024-10-01T14:26:00\t2024-10-01T14:28:00\n",
      "2024-10-01T14:27:00\tPT3M\t2024-10-01T14:27:00\t2024-10-01T14:30:00\n",
      "2024-10-01T14:27:00\tPT4M\t2024-10-01T14:24:00\t2024-10-01T14:28:00\n",
      "2024-10-01T14:27:00\tPT5M\t2024-10-01T14:25:00\t2024-10-01T14:30:00\n",
      "2024-10-01T14:27:00\tPT6M\t2024-10-01T14:24:00\t2024-10-01T14:30:00\n",
      "2024-10-01T14:27:00\tPT10M\t2024-10-01T14:20:00\t2024-10-01T14:30:00\n",
      "2024-10-01T14:27:00\tPT12M\t2024-10-01T14:24:00\t2024-10-01T14:36:00\n",
      "2024-10-01T14:27:00\tPT15M\t2024-10-01T14:15:00\t2024-10-01T14:30:00\n",
      "2024-10-01T14:27:00\tPT20M\t2024-10-01T14:20:00\t2024-10-01T14:40:00\n",
      "2024-10-01T14:27:00\tPT30M\t2024-10-01T14:00:00\t2024-10-01T14:30:00\n",
      "2024-10-01T14:27:00\tPT1H\t2024-10-01T14:00:00\t2024-10-01T15:00:00\n",
      "2024-10-01T14:27:00\tPT2H\t2024-10-01T14:00:00\t2024-10-01T16:00:00\n",
      "2024-10-01T14:27:00\tPT3H\t2024-10-01T12:00:00\t2024-10-01T15:00:00\n",
      "2024-10-01T14:27:00\tPT4H\t2024-10-01T12:00:00\t2024-10-01T16:00:00\n",
      "2024-10-01T14:27:00\tPT6H\t2024-10-01T12:00:00\t2024-10-01T18:00:00\n",
      "2024-10-01T14:27:00\tPT8H\t2024-10-01T08:00:00\t2024-10-01T16:00:00\n",
      "2024-10-01T14:27:00\tPT12H\t2024-10-01T12:00:00\t2024-10-02T00:00:00\n",
      "2024-10-01T14:27:00\tP1D\t2024-10-01T00:00:00\t2024-10-02T00:00:00\n",
      "2024-10-01T14:27:00\tP2D\t2024-09-30T00:00:00\t2024-10-02T00:00:00\n",
      "2024-10-01T14:27:00\tP3D\t2024-09-30T00:00:00\t2024-10-03T00:00:00\n",
      "2024-10-01T14:27:00\tP4D\t2024-09-30T00:00:00\t2024-10-04T00:00:00\n",
      "2024-10-01T14:27:00\tP5D\t2024-10-01T00:00:00\t2024-10-06T00:00:00\n",
      "2024-10-01T14:27:00\tP6D\t2024-09-30T00:00:00\t2024-10-06T00:00:00\n",
      "2024-10-01T14:27:00\tP7D\t2024-09-29T00:00:00\t2024-10-06T00:00:00\n",
      "2024-10-01T14:27:00\tP1/3M\t2024-10-01T00:00:00\t2024-10-11T00:00:00\n",
      "2024-10-01T14:27:00\tP1/2M\t2024-10-01T00:00:00\t2024-10-16T00:00:00\n",
      "2024-10-01T14:27:00\tP1M\t2024-10-01T00:00:00\t2024-11-01T00:00:00\n",
      "2024-10-01T14:27:00\tP1Y\t2024-01-01T00:00:00\t2025-01-01T00:00:00\n",
      "2024-10-01T14:27:00\tP1M\t2024-10-01T00:00:00\t2024-11-01T00:00:00\n",
      "2024-10-01T14:27:00\tP1Y\t2024-01-01T00:00:00\t2025-01-01T00:00:00\n",
      "2024-10-01T14:27:00\tP10Y\t2020-01-01T00:00:00\t2030-01-01T00:00:00\n",
      "2024-10-01T14:27:00\tP100Y\t2000-01-01T00:00:00\t2100-01-01T00:00:00\n"
     ]
    }
   ],
   "source": [
    "t = HecTime.now()\n",
    "t.midnight_as_2400 = False\n",
    "print(\"Current Time\\t\\tIntvl\\tTop of Prev\\t\\tTop of Next\")\n",
    "for intvl in Interval.getAll(lambda i: i.minutes > 0):\n",
    "    prev = HecTime(t).adjustToIntervalOffset(intvl, 0)\n",
    "    next = HecTime(prev).increment(1, intvl)\n",
    "    print(f\"{t}\\t{intvl}\\t{prev}\\t{next}\")"
   ]
  },
  {
   "cell_type": "markdown",
   "metadata": {},
   "source": [
    "### Format Date With Style (Generate Date Style Table) ###"
   ]
  },
  {
   "cell_type": "code",
   "execution_count": 12,
   "metadata": {},
   "outputs": [
    {
     "data": {
      "text/html": [
       "<html><pre><table border=\"1\"><tr><th colspan=\"4\" style=\"text-align:left;\"><b>Base Styles</b></th></tr><tr><td><b>0:</b>       June 2, 1985</td><td><b>10:</b>         June 2, 85</td><td><b>100:</b>       JUNE 2, 1985</td><td><b>110:</b>         JUNE 2, 85</td></tr><tr><td><b>1:</b>        Jun 2, 1985</td><td><b>11:</b>          Jun 2, 85</td><td><b>101:</b>        JUN 2, 1985</td><td><b>111:</b>          JUN 2, 85</td></tr><tr><td><b>2:</b>        2 June 1985</td><td><b>12:</b>          2 June 85</td><td><b>102:</b>        2 JUNE 1985</td><td><b>112:</b>          2 JUNE 85</td></tr><tr><td><b>3:</b>          June 1985</td><td><b>13:</b>            June 85</td><td><b>103:</b>          JUNE 1985</td><td><b>113:</b>            JUNE 85</td></tr><tr><td><b>4:</b>          02Jun1985</td><td><b>14:</b>            02Jun85</td><td><b>104:</b>          02JUN1985</td><td><b>114:</b>            02JUN85</td></tr><tr><td><b>5:</b>           2Jun1985</td><td><b>15:</b>             2Jun85</td><td><b>105:</b>           2JUN1985</td><td><b>115:</b>             2JUN85</td></tr><tr><td><b>6:</b>            Jun1985</td><td><b>16:</b>              Jun85</td><td><b>106:</b>            JUN1985</td><td><b>116:</b>              JUN85</td></tr><tr><td><b>7:</b>        02 Jun 1985</td><td><b>17:</b>          02 Jun 85</td><td><b>107:</b>        02 JUN 1985</td><td><b>117:</b>          02 JUN 85</td></tr><tr><td><b>8:</b>         2 Jun 1985</td><td><b>18:</b>           2 Jun 85</td><td><b>108:</b>         2 JUN 1985</td><td><b>118:</b>           2 JUN 85</td></tr><tr><td><b>9:</b>           Jun 1985</td><td><b>19:</b>             Jun 85</td><td><b>109:</b>           JUN 1985</td><td><b>119:</b>             JUN 85</td></tr><tr><th colspan=\"4\" style=\"text-align:left;\"><b>Extended Styles</b></th></tr><tr><td><b>-1:</b>             6/2/85</td><td><b>-11:</b>           06/02/85</td><td><b>-101:</b>           6/2/1985</td><td><b>-111:</b>         06/02/1985</td></tr><tr><td><b>-2:</b>             6-2-85</td><td><b>-12:</b>           06-02-85</td><td><b>-102:</b>           6-2-1985</td><td><b>-112:</b>         06-02-1985</td></tr><tr><td></td><td><b>-13:</b>         1985-06-02</td><td></td><td></td></tr></table></pre></html>"
      ]
     },
     "metadata": {},
     "output_type": "display_data"
    }
   ],
   "source": [
    "width = 18\n",
    "t = HecTime(\"02Jun1985, 12:34\").atTimeZone(\"local\")\n",
    "html = '<html><pre><table border=\"1\"><tr><th colspan=\"4\" style=\"text-align:left;\"><b>Base Styles</b></th></tr>'\n",
    "for row in range(10):\n",
    "    html += \"<tr>\"\n",
    "    for col in (0, 10, 100, 110):\n",
    "        style = row + col\n",
    "        html += f\"<td><b>{style}:</b> {t.date(style).rjust(width)}</td>\"\n",
    "    html += \"</tr>\"\n",
    "html += '<tr><th colspan=\"4\" style=\"text-align:left;\"><b>Extended Styles</b></th></tr>'\n",
    "for row in (-1, -2, -3):\n",
    "    html += \"<tr>\"\n",
    "    for col in (0, 10, 100, 110):\n",
    "        style = row - col\n",
    "        if style in (-3, -103, -113):\n",
    "            html += \"<td></td>\"\n",
    "        else:\n",
    "            html += f\"<td><b>{style}:</b> {t.date(style).rjust(width)}</td>\"\n",
    "    html += \"</tr>\"\n",
    "html += \"</table></pre></html>\"\n",
    "display_html(html, raw=True)  # type: ignore"
   ]
  },
  {
   "cell_type": "markdown",
   "metadata": {},
   "source": [
    "### Format and Parse Date/Time Like `datetime.datetime` ###"
   ]
  },
  {
   "cell_type": "code",
   "execution_count": 13,
   "metadata": {},
   "outputs": [
    {
     "name": "stdout",
     "output_type": "stream",
     "text": [
      "HecTime object = 1985-06-02T12:34:00-05:00\n",
      "Formatted using strftime(\"%A, %B %d, %Y %H:%M:%S %z\")  : Sunday, June 02, 1985 12:34:00 -0500\n",
      "\n",
      "New HecTime Object : HecTime(UNDEFINED_TIME, MINUTE_GRANULARITY)\n",
      "After parsing \"Sunday, June 02, 1985 12:34:00 -0500\" with \"%A, %B %d, %Y %H:%M:%S %z\"  : 1985-06-02T12:34:00-05:00\n"
     ]
    }
   ],
   "source": [
    "t = HecTime(\"02Jun1985, 12:34\").atTimeZone(\"local\")\n",
    "print(f\"HecTime object = {t}\")\n",
    "format = \"%A, %B %d, %Y %H:%M:%S %z\"\n",
    "dateTimeStr = t.strftime(format)\n",
    "print(f'Formatted using strftime(\"{format}\")  : {dateTimeStr}')\n",
    "t.setUndefined()\n",
    "t.atTimeZone(None)\n",
    "print(f\"\\nNew HecTime Object : {repr(t)}\")\n",
    "print(\n",
    "    f'After parsing \"{dateTimeStr}\" with \"{format}\"  : {t.strptime(dateTimeStr, format)}'\n",
    ")"
   ]
  }
 ],
 "metadata": {
  "kernelspec": {
   "display_name": "python_3_9",
   "language": "python",
   "name": "python3"
  },
  "language_info": {
   "codemirror_mode": {
    "name": "ipython",
    "version": 3
   },
   "file_extension": ".py",
   "mimetype": "text/x-python",
   "name": "python",
   "nbconvert_exporter": "python",
   "pygments_lexer": "ipython3",
   "version": "3.9.19"
  }
 },
 "nbformat": 4,
 "nbformat_minor": 2
}
