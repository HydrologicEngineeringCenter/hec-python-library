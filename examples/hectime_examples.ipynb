{
 "cells": [
  {
   "cell_type": "markdown",
   "metadata": {},
   "source": [
    "## Example Usage the HecTime Class ##"
   ]
  },
  {
   "cell_type": "markdown",
   "metadata": {},
   "source": [
    "### Setup ###"
   ]
  },
  {
   "cell_type": "code",
   "execution_count": null,
   "metadata": {},
   "outputs": [],
   "source": [
    "import os, sys\n",
    "\n",
    "srcdir = os.path.join(os.path.dirname(os.getcwd()), \"src\")\n",
    "sys.path.append(srcdir)\n",
    "from hec.hectime import HecTime  # type: ignore\n",
    "from hec.interval import Interval  # type: ignore\n",
    "from IPython.display import display_html"
   ]
  },
  {
   "cell_type": "markdown",
   "metadata": {},
   "source": [
    "### End-of-month 1Month intervals for a time window ###"
   ]
  },
  {
   "cell_type": "code",
   "execution_count": null,
   "metadata": {},
   "outputs": [],
   "source": [
    "intvl = Interval.getDss(\"1Month\")\n",
    "start_time = HecTime(\"2024-01-31, 24:00\")\n",
    "end_time = start_time + \"1Y\"\n",
    "count = start_time.computeNumberIntervals(end_time, intvl)\n",
    "times = [start_time + f\"{i}M\" for i in range(count)]\n",
    "for t in times:\n",
    "    print(t)"
   ]
  },
  {
   "cell_type": "markdown",
   "metadata": {},
   "source": [
    "### LRTS Daily Times in UTC ###\n",
    "Note the transition from 13:00 to 12:00 (23 hour day) in the Spring DST transition and then back again (25 hour day) in the Autum DST transistion."
   ]
  },
  {
   "cell_type": "code",
   "execution_count": null,
   "metadata": {},
   "outputs": [],
   "source": [
    "intvl = Interval.getCwms(\"1Day\")\n",
    "offset = 7 * Interval.MINUTES[\"1Hour\"]\n",
    "for month in (\"Mar\", \"Nov\"):\n",
    "    start_time = HecTime(f\"01{month}2024, 00:00\").atTimeZone(\"US/Central\")\n",
    "    end_time = start_time + \"1M\"\n",
    "    first_time = HecTime(start_time)\n",
    "    if first_time.adjustToIntervalOffset(intvl, offset) < start_time:\n",
    "        first_time.increment(1, intvl)\n",
    "    count = first_time.computeNumberIntervals(end_time, intvl)\n",
    "    times = [(first_time + f\"{i}D\").astimezone(\"UTC\") for i in range(count)]\n",
    "    prev = None\n",
    "    for t in times:\n",
    "        if prev:\n",
    "            print(f\"{t}\\t{(t-prev).total_seconds() // 3600}\")\n",
    "        else:\n",
    "            print(t)\n",
    "        prev = t\n",
    "    print(\"\")"
   ]
  },
  {
   "cell_type": "markdown",
   "metadata": {},
   "source": [
    "### Show Interval Boundaries for Current Time for All Intervals ###"
   ]
  },
  {
   "cell_type": "code",
   "execution_count": null,
   "metadata": {},
   "outputs": [],
   "source": [
    "t = HecTime.now()\n",
    "t.midnight_as_2400 = False\n",
    "print(\"Current Time\\t\\tIntvl\\tTop of Prev\\t\\tTop of Next\")\n",
    "for intvl in Interval.getAll(lambda i: i.minutes > 0):\n",
    "    prev = HecTime(t).adjustToIntervalOffset(intvl, 0)\n",
    "    next = HecTime(prev).increment(1, intvl)\n",
    "    print(f\"{t}\\t{intvl}\\t{prev}\\t{next}\")"
   ]
  },
  {
   "cell_type": "markdown",
   "metadata": {},
   "source": [
    "### Format Date With Style (Generate Date Style Table) ###"
   ]
  },
  {
   "cell_type": "code",
   "execution_count": null,
   "metadata": {},
   "outputs": [],
   "source": [
    "width = 18\n",
    "t = HecTime(\"02Jun1985, 12:34\").atTimeZone(\"local\")\n",
    "html = '<html><pre><table border=\"1\"><tr><th colspan=\"4\" style=\"text-align:left;\"><b>Base Styles</b></th></tr>'\n",
    "for row in range(10):\n",
    "    html += \"<tr>\"\n",
    "    for col in (0, 10, 100, 110):\n",
    "        style = row + col\n",
    "        html += f\"<td><b>{style}:</b> {t.date(style).rjust(width)}</td>\"\n",
    "    html += \"</tr>\"\n",
    "html += '<tr><th colspan=\"4\" style=\"text-align:left;\"><b>Extended Styles</b></th></tr>'\n",
    "for row in (-1, -2, -3):\n",
    "    html += \"<tr>\"\n",
    "    for col in (0, 10, 100, 110):\n",
    "        style = row - col\n",
    "        if style in (-3, -103, -113):\n",
    "            html += \"<td></td>\"\n",
    "        else:\n",
    "            html += f\"<td><b>{style}:</b> {t.date(style).rjust(width)}</td>\"\n",
    "    html += \"</tr>\"\n",
    "html += \"</table></pre></html>\"\n",
    "display_html(html, raw=True)  # type: ignore"
   ]
  },
  {
   "cell_type": "markdown",
   "metadata": {},
   "source": [
    "### Format and Parse Date/Time Like `datetime.datetime` ###"
   ]
  },
  {
   "cell_type": "code",
   "execution_count": null,
   "metadata": {},
   "outputs": [],
   "source": [
    "t = HecTime(\"02Jun1985, 12:34\").atTimeZone(\"local\")\n",
    "print(f\"HecTime object = {t}\")\n",
    "format = \"%A, %B %d, %Y %H:%M:%S %z\"\n",
    "dateTimeStr = t.strftime(format)\n",
    "print(f'Formatted using strftime(\"{format}\")  : {dateTimeStr}')\n",
    "t.setUndefined()\n",
    "t.atTimeZone(None)\n",
    "print(f\"\\nNew HecTime Object : {repr(t)}\")\n",
    "print(\n",
    "    f'After parsing \"{dateTimeStr}\" with \"{format}\"  : {t.strptime(dateTimeStr, format)}'\n",
    ")"
   ]
  }
 ],
 "metadata": {
  "kernelspec": {
   "display_name": "python_3_9",
   "language": "python",
   "name": "python3"
  },
  "language_info": {
   "codemirror_mode": {
    "name": "ipython",
    "version": 3
   },
   "file_extension": ".py",
   "mimetype": "text/x-python",
   "name": "python",
   "nbconvert_exporter": "python",
   "pygments_lexer": "ipython3",
   "version": "3.9.19"
  }
 },
 "nbformat": 4,
 "nbformat_minor": 2
}
