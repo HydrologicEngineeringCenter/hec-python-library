{
 "cells": [
  {
   "cell_type": "markdown",
   "metadata": {},
   "source": [
    "## Example Usage of TimeSpan Class ##"
   ]
  },
  {
   "cell_type": "markdown",
   "metadata": {},
   "source": [
    "### Setup ###"
   ]
  },
  {
   "cell_type": "code",
   "execution_count": null,
   "metadata": {},
   "outputs": [],
   "source": [
    "import os, sys\n",
    "\n",
    "srcdir = os.path.join(os.path.dirname(os.getcwd()), \"src\")\n",
    "sys.path.append(srcdir)\n",
    "from datetime import datetime\n",
    "from datetime import timedelta\n",
    "from hec.hectime import HecTime # type: ignore\n",
    "from hec.timespan import TimeSpan # type: ignore\n",
    "from typing import Union"
   ]
  },
  {
   "cell_type": "markdown",
   "metadata": {},
   "source": [
    "### Difference between Two HecTime Objects ###"
   ]
  },
  {
   "cell_type": "code",
   "execution_count": null,
   "metadata": {},
   "outputs": [],
   "source": [
    "ht1 = HecTime(\"01Jan2024, 01:00\")\n",
    "ht2 = HecTime(\"15Jun2025, 07:05\")\n",
    "diff = ht2 - ht1\n",
    "print(f\"ht1 = {ht1} ({repr(ht1)})\")\n",
    "print(f\"ht2 = {ht2} ({repr(ht2)})\")\n",
    "print(f\"\\nht2 - ht1 = {diff} ({repr(diff)})\")"
   ]
  },
  {
   "cell_type": "markdown",
   "metadata": {},
   "source": [
    "### Difference Between an HecTime Object and a `datetime` Object"
   ]
  },
  {
   "cell_type": "code",
   "execution_count": null,
   "metadata": {},
   "outputs": [],
   "source": [
    "dt1 = datetime(2024, 1, 1, 1)\n",
    "ht1 = HecTime(\"15Jun2025, 07:05\")\n",
    "diff = ht1 - dt1\n",
    "print(f\"dt1 = {dt1} ({repr(dt1)})\")\n",
    "print(f\"ht1 = {ht1} ({repr(ht1)})\")\n",
    "print(f\"\\nht1 - dt1 = {diff} ({repr(diff)})\")"
   ]
  },
  {
   "cell_type": "markdown",
   "metadata": {},
   "source": [
    "### Mixing TimeSpan and `timedelta` Objects ###"
   ]
  },
  {
   "cell_type": "code",
   "execution_count": null,
   "metadata": {},
   "outputs": [],
   "source": [
    "ts1 = TimeSpan(years=1, days=3, seconds=45)\n",
    "ts2 = TimeSpan(months=7, hours=6, minutes=4)\n",
    "print(\"\")\n",
    "print(f\"ts1 = {ts1} ({repr(ts1)})\")\n",
    "print(f\"ts2 = {ts2} ({repr(ts2)})\")\n",
    "summ: Union[TimeSpan, timedelta] = ts1 + ts2\n",
    "print(f\"\\tts1 + ts2 = {summ} ({repr(summ)})\")\n",
    "diff = ts2 - ts1\n",
    "print(f\"\\tts2 - ts1 = {diff} ({repr(diff)})\")\n",
    "try:\n",
    "    ts1.timedelta()\n",
    "except Exception as e:\n",
    "    print(f'\\tts1.timedelta() = {e.__class__.__name__}: \"{str(e)}\"')\n",
    "print(\"\")\n",
    "ts3 = TimeSpan(seconds=123456)\n",
    "td1 = timedelta(seconds=234567)\n",
    "print(f\"ts3 = {ts3} ({repr(ts3)})\")\n",
    "print(f\"td1 = {td1} ({repr(td1)})\")\n",
    "summ = ts3 + td1\n",
    "print(f\"\\tts3 + td1 = {summ} ({repr(summ)})\")\n",
    "summ = td1 + ts3\n",
    "print(f\"\\ttd1 + ts3 = {summ} ({repr(summ)})\")\n",
    "diff = td1 - ts3\n",
    "print(f\"\\ttd1 - ts3 = {diff} ({repr(diff)})\")\n",
    "print(f\"\\tts3.timedelta() = {ts3.timedelta()} ({repr(ts3.timedelta())})\")"
   ]
  }
 ],
 "metadata": {
  "kernelspec": {
   "display_name": "python_3_9",
   "language": "python",
   "name": "python3"
  },
  "language_info": {
   "codemirror_mode": {
    "name": "ipython",
    "version": 3
   },
   "file_extension": ".py",
   "mimetype": "text/x-python",
   "name": "python",
   "nbconvert_exporter": "python",
   "pygments_lexer": "ipython3",
   "version": "3.9.19"
  }
 },
 "nbformat": 4,
 "nbformat_minor": 2
}
