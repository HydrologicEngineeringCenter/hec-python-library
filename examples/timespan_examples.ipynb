{
 "cells": [
  {
   "cell_type": "markdown",
   "metadata": {},
   "source": [
    "## Example Usage of TimeSpan Class ##"
   ]
  },
  {
   "cell_type": "markdown",
   "metadata": {},
   "source": [
    "### Setup ###"
   ]
  },
  {
   "cell_type": "code",
   "execution_count": null,
   "metadata": {},
   "outputs": [],
   "source": [
    "from datetime import datetime, timedelta\n",
    "from typing import Union\n",
    "\n",
    "from hec.hectime import HecTime\n",
    "from hec.timespan import TimeSpan"
   ]
  },
  {
   "cell_type": "markdown",
   "metadata": {},
   "source": [
    "### Difference between Two HecTime Objects ###"
   ]
  },
  {
   "cell_type": "code",
   "execution_count": 6,
   "metadata": {},
   "outputs": [
    {
     "name": "stdout",
     "output_type": "stream",
     "text": [
      "ht1 = 2024-01-01T01:00:00 (HecTime([2024, 1, 1, 1, 0, 0], MINUTE_GRANULARITY))\n",
      "ht2 = 2025-06-15T07:05:00 (HecTime([2025, 6, 15, 7, 5, 0], MINUTE_GRANULARITY))\n",
      "\n",
      "ht2 - ht1 = P1Y5M14DT6H5M (TimeSpan([1, 5, 14, 6, 5, 0]))\n"
     ]
    }
   ],
   "source": [
    "ht1 = HecTime(\"01Jan2024, 01:00\")\n",
    "ht2 = HecTime(\"15Jun2025, 07:05\")\n",
    "diff = ht2 - ht1\n",
    "print(f\"ht1 = {ht1} ({repr(ht1)})\")\n",
    "print(f\"ht2 = {ht2} ({repr(ht2)})\")\n",
    "print(f\"\\nht2 - ht1 = {diff} ({repr(diff)})\")"
   ]
  },
  {
   "cell_type": "markdown",
   "metadata": {},
   "source": [
    "### Difference Between an HecTime Object and a `datetime` Object"
   ]
  },
  {
   "cell_type": "code",
   "execution_count": 7,
   "metadata": {},
   "outputs": [
    {
     "name": "stdout",
     "output_type": "stream",
     "text": [
      "dt1 = 2024-01-01 01:00:00 (datetime.datetime(2024, 1, 1, 1, 0))\n",
      "ht1 = 2025-06-15T07:05:00 (HecTime([2025, 6, 15, 7, 5, 0], MINUTE_GRANULARITY))\n",
      "\n",
      "ht1 - dt1 = 531 days, 6:05:00 (datetime.timedelta(days=531, seconds=21900))\n"
     ]
    }
   ],
   "source": [
    "dt1 = datetime(2024, 1, 1, 1)\n",
    "ht1 = HecTime(\"15Jun2025, 07:05\")\n",
    "diff = ht1 - dt1\n",
    "print(f\"dt1 = {dt1} ({repr(dt1)})\")\n",
    "print(f\"ht1 = {ht1} ({repr(ht1)})\")\n",
    "print(f\"\\nht1 - dt1 = {diff} ({repr(diff)})\")"
   ]
  },
  {
   "cell_type": "markdown",
   "metadata": {},
   "source": [
    "### Mixing TimeSpan and `timedelta` Objects ###"
   ]
  },
  {
   "cell_type": "code",
   "execution_count": 8,
   "metadata": {},
   "outputs": [
    {
     "name": "stdout",
     "output_type": "stream",
     "text": [
      "\n",
      "ts1 = P1Y3DT45S (TimeSpan([1, 0, 3, 0, 0, 45]))\n",
      "ts2 = P4Y7MT6H (TimeSpan([4, 7, 0, 6, 0, 0]))\n",
      "\tts1 + ts2 = P5Y7M3DT6H45S (TimeSpan([5, 7, 3, 6, 0, 45]))\n",
      "\tts2 - ts1 = P3Y7M,-P2DT18H45S (TimeSpan([3, 7, -2, -18, 0, -45]))\n",
      "\tts1.timedelta() = TimeSpanException: \"Object with calendar-based values is not convertable to timedelta\"\n",
      "\n",
      "ts3 = P1DT10H17M36S (TimeSpan([0, 0, 1, 10, 17, 36]))\n",
      "td1 = 2 days, 17:09:27 (datetime.timedelta(days=2, seconds=61767))\n",
      "\tts3 + td1 = P4DT3H27M3S (TimeSpan([0, 0, 4, 3, 27, 3]))\n",
      "\ttd1 + ts3 = 4 days, 3:27:03 (datetime.timedelta(days=4, seconds=12423))\n",
      "\ttd1 - ts3 = 1 day, 6:51:51 (datetime.timedelta(days=1, seconds=24711))\n",
      "\tts3.timedelta() = 1 day, 10:17:36 (datetime.timedelta(days=1, seconds=37056))\n"
     ]
    }
   ],
   "source": [
    "ts1 = TimeSpan(years=1, days=3, seconds=45)\n",
    "ts2 = TimeSpan(months=7, hours=6, minutes=4)\n",
    "print(\"\")\n",
    "print(f\"ts1 = {ts1} ({repr(ts1)})\")\n",
    "print(f\"ts2 = {ts2} ({repr(ts2)})\")\n",
    "summ: Union[TimeSpan, timedelta] = ts1 + ts2\n",
    "print(f\"\\tts1 + ts2 = {summ} ({repr(summ)})\")\n",
    "diff = ts2 - ts1\n",
    "print(f\"\\tts2 - ts1 = {diff} ({repr(diff)})\")\n",
    "try:\n",
    "    ts1.timedelta()\n",
    "except Exception as e:\n",
    "    print(f'\\tts1.timedelta() = {e.__class__.__name__}: \"{str(e)}\"')\n",
    "print(\"\")\n",
    "ts3 = TimeSpan(seconds=123456)\n",
    "td1 = timedelta(seconds=234567)\n",
    "print(f\"ts3 = {ts3} ({repr(ts3)})\")\n",
    "print(f\"td1 = {td1} ({repr(td1)})\")\n",
    "summ = ts3 + td1\n",
    "print(f\"\\tts3 + td1 = {summ} ({repr(summ)})\")\n",
    "summ = td1 + ts3\n",
    "print(f\"\\ttd1 + ts3 = {summ} ({repr(summ)})\")\n",
    "diff = td1 - ts3\n",
    "print(f\"\\ttd1 - ts3 = {diff} ({repr(diff)})\")\n",
    "print(f\"\\tts3.timedelta() = {ts3.timedelta()} ({repr(ts3.timedelta())})\")"
   ]
  }
 ],
 "metadata": {
  "kernelspec": {
   "display_name": "python_3_9",
   "language": "python",
   "name": "python3"
  },
  "language_info": {
   "codemirror_mode": {
    "name": "ipython",
    "version": 3
   },
   "file_extension": ".py",
   "mimetype": "text/x-python",
   "name": "python",
   "nbconvert_exporter": "python",
   "pygments_lexer": "ipython3",
   "version": "3.9.19"
  }
 },
 "nbformat": 4,
 "nbformat_minor": 2
}
