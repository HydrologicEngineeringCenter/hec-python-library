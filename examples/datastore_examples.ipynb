{
 "cells": [
  {
   "cell_type": "markdown",
   "id": "fd3ebbb5",
   "metadata": {},
   "source": [
    "## Example Usage of CwmsDataStore and DssDataStore Classes ##"
   ]
  },
  {
   "cell_type": "markdown",
   "id": "694b651e",
   "metadata": {},
   "source": [
    "### Setup ###"
   ]
  },
  {
   "cell_type": "code",
   "execution_count": 6,
   "id": "7dc32cfe",
   "metadata": {},
   "outputs": [],
   "source": [
    "import os\n",
    "import sys\n",
    "\n",
    "sys.path.append(os.path.dirname(os.getcwd()))\n",
    "\n",
    "from typing import cast\n",
    "\n",
    "from hec import CwmsDataStore, DssDataStore, HecTime, TimeSeries"
   ]
  },
  {
   "cell_type": "markdown",
   "id": "c51d4c16",
   "metadata": {},
   "source": [
    "### Catalog/Retrieve CWMS Time Series and Store to HEC-DSS File ###"
   ]
  },
  {
   "cell_type": "code",
   "execution_count": 7,
   "id": "c69a9606",
   "metadata": {},
   "outputs": [
    {
     "name": "stdout",
     "output_type": "stream",
     "text": [
      "\n",
      "Latest Time\t\tTime Series ID\n",
      "2025-06-03T04:00:00Z\tKEYS.Elev-Tailwater.Inst.1Hour.0.Ccp-Rev\n",
      "2025-06-03T02:00:00Z\tKEYS.Elev-Tailwater.Inst.30Minutes.0.Ccp-Rev\n",
      "2025-06-03T04:00:00Z\tKEYS.Elev.Inst.1Hour.0.Ccp-Rev\n",
      "2019-11-01T00:00:00Z\tKEYS.Elev.Inst.1Month.0.Ccp-Rev\n",
      "2025-06-03T02:00:00Z\tKEYS.Elev.Inst.30Minutes.0.Ccp-Rev\n",
      "\n",
      "Retrieving Time Series and Storing to DSS\n",
      "KEYS.Elev-Tailwater.Inst.1Hour.0.Ccp-Rev 744 values in ft\n",
      "KEYS.Elev-Tailwater.Inst.30Minutes.0.Ccp-Rev 1487 values in ft\n",
      "KEYS.Elev.Inst.1Hour.0.Ccp-Rev 744 values in ft\n",
      "No data in time window for KEYS.Elev.Inst.1Month.0.Ccp-Rev\n",
      "KEYS.Elev.Inst.30Minutes.0.Ccp-Rev 1487 values in ft\n",
      "\n",
      "DSS Catalog\n",
      "//KEYS/Elev-Tailwater/01May2025-01Jun2025/1Hour/CWMS-Ccp-Rev/\n",
      "//KEYS/Elev-Tailwater/01May2025-01Jun2025/30Minute/CWMS-Ccp-Rev/\n",
      "//KEYS/Elev/01May2025-01Jun2025/1Hour/CWMS-Ccp-Rev/\n",
      "//KEYS/Elev/01May2025-01Jun2025/30Minute/CWMS-Ccp-Rev/\n"
     ]
    }
   ],
   "source": [
    "db = CwmsDataStore.open(office=\"SWT\")\n",
    "# can also use:\n",
    "#   db = CwmsDataStore.open() or db = CwmsDataStore.open(<api_url>)\n",
    "#   db.office = \"SWT\"\n",
    "dss = DssDataStore.open(\"T:/test_dss.dss\", read_only=False)\n",
    "# can also use\n",
    "#   dss = DssDataStore.open(<filename>)\n",
    "#   dss.is_read_only = False\n",
    "end_time = HecTime.now().label_as_time_zone(\"local\")\n",
    "start_time = cast(HecTime, (end_time - \"P1M\"))\n",
    "catalog = db.catalog(\n",
    "    \"timeseries\", pattern=\"keys*elev*ccp-rev\", fields=\"name,latest-time\"\n",
    ")\n",
    "db.time_window = (\n",
    "    start_time.convert_to_time_zone(\"UTC\"),\n",
    "    end_time.convert_to_time_zone(\"UTC\"),\n",
    ")\n",
    "latest_times = {}\n",
    "print(\"\\nLatest Time\\t\\tTime Series ID\")\n",
    "for catalog_item in catalog:\n",
    "    tsid, latest_time_str = catalog_item.split(\"\\t\")\n",
    "    print(f\"{latest_time_str}\\t{tsid}\")\n",
    "    latest_times[tsid] = HecTime(latest_time_str).convert_to_time_zone(\"local\")\n",
    "print(\"\\nRetrieving Time Series and Storing to DSS\")\n",
    "for tsid in latest_times:\n",
    "    if latest_times[tsid] >= start_time:\n",
    "        ts = cast(TimeSeries, db.retrieve(tsid)).convert_to_time_zone(\"local\")\n",
    "        print(ts)\n",
    "        ts.version = f\"CWMS-{ts.version}\"\n",
    "        dss.store(ts)\n",
    "    else:\n",
    "        print(f\"No data in time window for {tsid}\")\n",
    "db.close()\n",
    "print(\"\\nDSS Catalog\")\n",
    "for dataset_name in dss.catalog(\n",
    "    \"timeseries\", pattern=\"//keys/elev*/cwms-ccp-rev/\", condensed=True\n",
    "):\n",
    "    print(dataset_name)\n",
    "dss.close()"
   ]
  }
 ],
 "metadata": {
  "kernelspec": {
   "display_name": "python_3_9",
   "language": "python",
   "name": "python3"
  },
  "language_info": {
   "codemirror_mode": {
    "name": "ipython",
    "version": 3
   },
   "file_extension": ".py",
   "mimetype": "text/x-python",
   "name": "python",
   "nbconvert_exporter": "python",
   "pygments_lexer": "ipython3",
   "version": "3.9.19"
  }
 },
 "nbformat": 4,
 "nbformat_minor": 5
}
