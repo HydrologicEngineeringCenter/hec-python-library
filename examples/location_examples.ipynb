{
 "cells": [
  {
   "cell_type": "markdown",
   "metadata": {},
   "source": [
    "## Exmple Usage of Location Class"
   ]
  },
  {
   "cell_type": "markdown",
   "metadata": {},
   "source": [
    "### Setup ###"
   ]
  },
  {
   "cell_type": "code",
   "execution_count": 7,
   "metadata": {},
   "outputs": [],
   "source": [
    "import os\n",
    "import sys\n",
    "\n",
    "srcdir = os.path.join(os.path.dirname(os.getcwd()), \"src\")\n",
    "sys.path.append(srcdir)\n",
    "import traceback\n",
    "\n",
    "from hec.location import Location"
   ]
  },
  {
   "cell_type": "markdown",
   "metadata": {},
   "source": [
    "### Location With Name and Office Only"
   ]
  },
  {
   "cell_type": "code",
   "execution_count": 8,
   "metadata": {},
   "outputs": [
    {
     "name": "stdout",
     "output_type": "stream",
     "text": [
      "str(loc) = SWT/BaseLocation-SubLocation-WithHyphens\n",
      "repr(loc) = Location(name='BaseLocation-SubLocation-WithHyphens',office='SWT')\n",
      "loc.name = BaseLocation-SubLocation-WithHyphens\n",
      "loc.basename = BaseLocation\n",
      "loc.subname = SubLocation-WithHyphens\n",
      "loc.office = SWT\n",
      "loc.latitude = None\n",
      "loc.longitude = None\n",
      "loc.elevation = None\n",
      "loc.elevation_unit = None\n",
      "loc.horizontal_datum = None\n",
      "loc.vertical_datum = None\n"
     ]
    }
   ],
   "source": [
    "loc = Location(\"BaseLocation-SubLocation-WithHyphens\", \"SWT\")\n",
    "\n",
    "print(f\"str(loc) = {loc}\")\n",
    "print(f\"repr(loc) = {repr(loc)}\")\n",
    "print(f\"loc.name = {loc.name}\")\n",
    "print(f\"loc.basename = {loc.basename}\")\n",
    "print(f\"loc.subname = {loc.subname}\")\n",
    "print(f\"loc.office = {loc.office}\")\n",
    "print(f\"loc.latitude = {loc.latitude}\")\n",
    "print(f\"loc.longitude = {loc.longitude}\")\n",
    "print(f\"loc.elevation = {loc.elevation}\")\n",
    "print(f\"loc.elevation_unit = {loc.elevation_unit}\")\n",
    "print(f\"loc.horizontal_datum = {loc.horizontal_datum}\")\n",
    "print(f\"loc.vertical_datum = {loc.vertical_datum}\")"
   ]
  },
  {
   "cell_type": "markdown",
   "metadata": {},
   "source": [
    "### Location With Name, Lat/Lon, and Horizontal Datum Only"
   ]
  },
  {
   "cell_type": "code",
   "execution_count": 9,
   "metadata": {},
   "outputs": [
    {
     "name": "stdout",
     "output_type": "stream",
     "text": [
      "str(loc) = BaseLocation-SubLocation-WithHyphens\n",
      "repr(loc) = Location(name='BaseLocation-SubLocation-WithHyphens',latitude=35.4844444,longitude=-94.3927778,horizontal_datum='NAD83')\n",
      "loc.name = BaseLocation-SubLocation-WithHyphens\n",
      "loc.basename = BaseLocation\n",
      "loc.subname = SubLocation-WithHyphens\n",
      "loc.office = None\n",
      "loc.latitude = 35.4844444\n",
      "loc.longitude = -94.3927778\n",
      "loc.elevation = None\n",
      "loc.elevation_unit = None\n",
      "loc.horizontal_datum = NAD83\n",
      "loc.vertical_datum = None\n"
     ]
    }
   ],
   "source": [
    "loc = Location(\n",
    "    \"BaseLocation-SubLocation-WithHyphens\",\n",
    "    latitude=35.4844444,\n",
    "    longitude=-94.3927778,\n",
    "    horizontal_datum=\"NAD83\",\n",
    ")\n",
    "\n",
    "print(f\"str(loc) = {loc}\")\n",
    "print(f\"repr(loc) = {repr(loc)}\")\n",
    "print(f\"loc.name = {loc.name}\")\n",
    "print(f\"loc.basename = {loc.basename}\")\n",
    "print(f\"loc.subname = {loc.subname}\")\n",
    "print(f\"loc.office = {loc.office}\")\n",
    "print(f\"loc.latitude = {loc.latitude}\")\n",
    "print(f\"loc.longitude = {loc.longitude}\")\n",
    "print(f\"loc.elevation = {loc.elevation}\")\n",
    "print(f\"loc.elevation_unit = {loc.elevation_unit}\")\n",
    "print(f\"loc.horizontal_datum = {loc.horizontal_datum}\")\n",
    "print(f\"loc.vertical_datum = {loc.vertical_datum}\")"
   ]
  },
  {
   "cell_type": "markdown",
   "metadata": {},
   "source": [
    "### Updating After Creation ###"
   ]
  },
  {
   "cell_type": "code",
   "execution_count": 10,
   "metadata": {},
   "outputs": [
    {
     "name": "stdout",
     "output_type": "stream",
     "text": [
      "str(loc) = SWT/New_Location_Name\n",
      "repr(loc) = Location(name='New_Location_Name',office='SWT',elevation=408.0,elevation_unit='ft',vertical_datum='NAVD88')\n",
      "loc.name = New_Location_Name\n",
      "loc.basename = New_Location_Name\n",
      "loc.subname = None\n",
      "loc.office = SWT\n",
      "loc.latitude = None\n",
      "loc.longitude = None\n",
      "loc.elevation = 408.0\n",
      "loc.elevation_unit = ft\n",
      "loc.horizontal_datum = None\n",
      "loc.vertical_datum = NAVD88\n"
     ]
    }
   ],
   "source": [
    "loc = Location(\n",
    "    \"BaseLocation-SubLocation-WithHyphens\",\n",
    "    latitude=35.4844444,\n",
    "    longitude=-94.3927778,\n",
    "    horizontal_datum=\"NAD83\",\n",
    ")\n",
    "\n",
    "loc.name = \"New_Location_Name\"\n",
    "loc.office = \"SWT\"\n",
    "loc.latitude = None\n",
    "loc.longitude = None\n",
    "loc.horizontal_datum = None\n",
    "loc.elevation = 408.0\n",
    "loc.elevation_unit = \"ft\"\n",
    "loc.vertical_datum = \"NAVD88\"\n",
    "\n",
    "print(f\"str(loc) = {loc}\")\n",
    "print(f\"repr(loc) = {repr(loc)}\")\n",
    "print(f\"loc.name = {loc.name}\")\n",
    "print(f\"loc.basename = {loc.basename}\")\n",
    "print(f\"loc.subname = {loc.subname}\")\n",
    "print(f\"loc.office = {loc.office}\")\n",
    "print(f\"loc.latitude = {loc.latitude}\")\n",
    "print(f\"loc.longitude = {loc.longitude}\")\n",
    "print(f\"loc.elevation = {loc.elevation}\")\n",
    "print(f\"loc.elevation_unit = {loc.elevation_unit}\")\n",
    "print(f\"loc.horizontal_datum = {loc.horizontal_datum}\")\n",
    "print(f\"loc.vertical_datum = {loc.vertical_datum}\")"
   ]
  },
  {
   "cell_type": "markdown",
   "metadata": {},
   "source": [
    "### Warnings ###"
   ]
  },
  {
   "cell_type": "code",
   "execution_count": 11,
   "metadata": {},
   "outputs": [
    {
     "name": "stdout",
     "output_type": "stream",
     "text": [
      "Location.WithDot\n",
      "Location/WithSlash\n",
      "Location\\WithBackSlash\n",
      "Location,WithComma\n",
      "Location;WithSemicolon\n",
      "Location'WithSingleQuote\n",
      "Location\"WithDoubleQuote\n",
      "Location`WithBacktick\n",
      "LôcåtioñWithExtendedChars\n",
      "ÖfficĕWithExtendedChars\n"
     ]
    },
    {
     "name": "stderr",
     "output_type": "stream",
     "text": [
      "u:\\Devl\\git\\hec-python-library\\src\\hec\\location.py:114: UserWarning: Location name \"Location.WithDot\" contains the character \".\" and may not be usable in all contexts\n",
      "  warnings.warn(\n",
      "u:\\Devl\\git\\hec-python-library\\src\\hec\\location.py:114: UserWarning: Location name \"Location/WithSlash\" contains the character \"/\" and may not be usable in all contexts\n",
      "  warnings.warn(\n",
      "u:\\Devl\\git\\hec-python-library\\src\\hec\\location.py:114: UserWarning: Location name \"Location\\WithBackSlash\" contains the character \"\\\" and may not be usable in all contexts\n",
      "  warnings.warn(\n",
      "u:\\Devl\\git\\hec-python-library\\src\\hec\\location.py:114: UserWarning: Location name \"Location,WithComma\" contains the character \",\" and may not be usable in all contexts\n",
      "  warnings.warn(\n",
      "u:\\Devl\\git\\hec-python-library\\src\\hec\\location.py:114: UserWarning: Location name \"Location;WithSemicolon\" contains the character \";\" and may not be usable in all contexts\n",
      "  warnings.warn(\n",
      "u:\\Devl\\git\\hec-python-library\\src\\hec\\location.py:114: UserWarning: Location name \"Location'WithSingleQuote\" contains the character \"'\" and may not be usable in all contexts\n",
      "  warnings.warn(\n",
      "u:\\Devl\\git\\hec-python-library\\src\\hec\\location.py:114: UserWarning: Location name \"Location\"WithDoubleQuote\" contains the character \"\"\" and may not be usable in all contexts\n",
      "  warnings.warn(\n",
      "u:\\Devl\\git\\hec-python-library\\src\\hec\\location.py:114: UserWarning: Location name \"Location`WithBacktick\" contains the character \"`\" and may not be usable in all contexts\n",
      "  warnings.warn(\n",
      "u:\\Devl\\git\\hec-python-library\\src\\hec\\location.py:120: UserWarning: Location name \"LôcåtioñWithExtendedChars\" contains the character \"ô\" (244, 0xf4) and may not be usable in all contexts\n",
      "  warnings.warn(\n",
      "u:\\Devl\\git\\hec-python-library\\src\\hec\\location.py:120: UserWarning: Location name \"LôcåtioñWithExtendedChars\" contains the character \"å\" (229, 0xe5) and may not be usable in all contexts\n",
      "  warnings.warn(\n",
      "u:\\Devl\\git\\hec-python-library\\src\\hec\\location.py:120: UserWarning: Location name \"LôcåtioñWithExtendedChars\" contains the character \"ñ\" (241, 0xf1) and may not be usable in all contexts\n",
      "  warnings.warn(\n",
      "u:\\Devl\\git\\hec-python-library\\src\\hec\\location.py:166: UserWarning: Location office \"ÖfficĕWithExtendedChars\" contains the character \"Ö\" (214, 0xd6) and may not be usable in all contexts\n",
      "  warnings.warn(\n",
      "u:\\Devl\\git\\hec-python-library\\src\\hec\\location.py:166: UserWarning: Location office \"ÖfficĕWithExtendedChars\" contains the character \"ĕ\" (277, 0x115) and may not be usable in all contexts\n",
      "  warnings.warn(\n"
     ]
    }
   ],
   "source": [
    "loc = Location(\"BaseLocation-SubLocation-WithHyphens\", \"SWT\")\n",
    "\n",
    "loc.name = \"Location.WithDot\"\n",
    "print(loc.name)\n",
    "\n",
    "loc.name = \"Location/WithSlash\"\n",
    "print(loc.name)\n",
    "\n",
    "loc.name = \"Location\\WithBackSlash\"\n",
    "print(loc.name)\n",
    "\n",
    "loc.name = \"Location,WithComma\"\n",
    "print(loc.name)\n",
    "\n",
    "loc.name = \"Location;WithSemicolon\"\n",
    "print(loc.name)\n",
    "\n",
    "loc.name = \"Location'WithSingleQuote\"\n",
    "print(loc.name)\n",
    "\n",
    "loc.name = 'Location\"WithDoubleQuote'\n",
    "print(loc.name)\n",
    "\n",
    "loc.name = \"Location`WithBacktick\"\n",
    "print(loc.name)\n",
    "\n",
    "loc.name = \"LôcåtioñWithExtendedChars\"\n",
    "print(loc.name)\n",
    "\n",
    "loc.office = \"ÖfficĕWithExtendedChars\"\n",
    "print(loc.office)"
   ]
  },
  {
   "cell_type": "markdown",
   "metadata": {},
   "source": [
    "### Errors ###"
   ]
  },
  {
   "cell_type": "code",
   "execution_count": 12,
   "metadata": {},
   "outputs": [
    {
     "name": "stdout",
     "output_type": "stream",
     "text": [
      "Setting basename:\n",
      "\tAttributeError(can't set attribute)\n",
      "Setting subname:\n",
      "\tAttributeError(can't set attribute)\n",
      "Setting latitude outside of -90..90\n",
      "\tLocationException(Latitude of 100.0 is invalid)\n",
      "Setting longitude outside of -180..180\n",
      "\tLocationException(Longitude of 185.0 is invalid)\n",
      "\n",
      "str(loc) = SWT/BaseLocation-SubLocation-WithHyphens\n",
      "repr(loc) = Location(name='BaseLocation-SubLocation-WithHyphens',office='SWT')\n",
      "loc.name = BaseLocation-SubLocation-WithHyphens\n",
      "loc.basename = BaseLocation\n",
      "loc.subname = SubLocation-WithHyphens\n",
      "loc.office = SWT\n",
      "loc.latitude = None\n",
      "loc.longitude = None\n",
      "loc.elevation = None\n",
      "loc.elevation_unit = None\n",
      "loc.horizontal_datum = None\n",
      "loc.vertical_datum = None\n"
     ]
    }
   ],
   "source": [
    "loc = Location(\"BaseLocation-SubLocation-WithHyphens\", \"SWT\")\n",
    "\n",
    "print(\"Setting basename:\")\n",
    "try:\n",
    "    loc.basename = \"test\"  # type: ignore\n",
    "except Exception as e:\n",
    "    print(f\"\\t{type(e).__name__}({e})\")\n",
    "\n",
    "print(\"Setting subname:\")\n",
    "try:\n",
    "    loc.subname = \"test\"  # type: ignore\n",
    "except Exception as e:\n",
    "    print(f\"\\t{type(e).__name__}({e})\")\n",
    "\n",
    "print(\"Setting latitude outside of -90..90\")\n",
    "try:\n",
    "    loc.latitude = 100.0\n",
    "except Exception as e:\n",
    "    print(f\"\\t{type(e).__name__}({e})\")\n",
    "\n",
    "print(\"Setting longitude outside of -180..180\")\n",
    "try:\n",
    "    loc.longitude = 185.0\n",
    "except Exception as e:\n",
    "    print(f\"\\t{type(e).__name__}({e})\")\n",
    "\n",
    "print(\"\")\n",
    "print(f\"str(loc) = {loc}\")\n",
    "print(f\"repr(loc) = {repr(loc)}\")\n",
    "print(f\"loc.name = {loc.name}\")\n",
    "print(f\"loc.basename = {loc.basename}\")\n",
    "print(f\"loc.subname = {loc.subname}\")\n",
    "print(f\"loc.office = {loc.office}\")\n",
    "print(f\"loc.latitude = {loc.latitude}\")\n",
    "print(f\"loc.longitude = {loc.longitude}\")\n",
    "print(f\"loc.elevation = {loc.elevation}\")\n",
    "print(f\"loc.elevation_unit = {loc.elevation_unit}\")\n",
    "print(f\"loc.horizontal_datum = {loc.horizontal_datum}\")\n",
    "print(f\"loc.vertical_datum = {loc.vertical_datum}\")"
   ]
  }
 ],
 "metadata": {
  "kernelspec": {
   "display_name": "python_3_9",
   "language": "python",
   "name": "python3"
  },
  "language_info": {
   "codemirror_mode": {
    "name": "ipython",
    "version": 3
   },
   "file_extension": ".py",
   "mimetype": "text/x-python",
   "name": "python",
   "nbconvert_exporter": "python",
   "pygments_lexer": "ipython3",
   "version": "3.9.19"
  }
 },
 "nbformat": 4,
 "nbformat_minor": 2
}
