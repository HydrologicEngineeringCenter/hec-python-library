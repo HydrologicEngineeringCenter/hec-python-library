{
 "cells": [
  {
   "cell_type": "markdown",
   "metadata": {},
   "source": [
    "## Exmple Usage of Quality Class"
   ]
  },
  {
   "cell_type": "markdown",
   "metadata": {},
   "source": [
    "### Setup"
   ]
  },
  {
   "cell_type": "code",
   "execution_count": 3,
   "metadata": {},
   "outputs": [],
   "source": [
    "import os, sys\n",
    "\n",
    "srcdir = os.path.join(os.path.dirname(os.getcwd()), \"src\")\n",
    "sys.path.append(srcdir)\n",
    "from hec.quality import Quality  # type: ignore"
   ]
  },
  {
   "cell_type": "markdown",
   "metadata": {},
   "source": [
    "### Quality Examples"
   ]
  },
  {
   "cell_type": "code",
   "execution_count": 4,
   "metadata": {},
   "outputs": [
    {
     "name": "stdout",
     "output_type": "stream",
     "text": [
      "repr               = Quality(5)\n",
      "str                = m\n",
      "text               = Unprotected Screened Missing No_Range Original None None None\n",
      "decimal (default)  = 5\n",
      "decimal (signed)   = 5\n",
      "decimal (unsigned) = 5\n",
      "hexadecimal        = 0x5\n",
      "binary             = 0b101\n",
      "screened           = 1 (SCREENED)\n",
      "validity           = 2 (MISSING)\n",
      "\n",
      "repr               = Quality(-2090884223)\n",
      "str                = I+\n",
      "text               = Protected Screened Unknown No_Range Modified Manual Graphical Absolute_Value+Constant_Value+Rate_Of_Change+Relative_Value+Duration_Value+Neg_Increment+Skip_List+User_Defined+Distribution\n",
      "decimal (default)  = -2090884223\n",
      "decimal (signed)   = -2090884223\n",
      "decimal (unsigned) = 2204083073\n",
      "hexadecimal        = 0x835f_a381\n",
      "binary             = 0b1000_0011_0101_1111_1010_0011_1000_0001\n",
      "screened           = 1 (SCREENED)\n",
      "validity           = 0 (UNKNOWN)\n"
     ]
    }
   ],
   "source": [
    "q = Quality(5)\n",
    "print(f\"repr               = {repr(q)}\")\n",
    "print(f\"str                = {q}\")\n",
    "print(f\"text               = {q.text}\")\n",
    "print(f\"decimal (default)  = {q.code}\")\n",
    "print(f\"decimal (signed)   = {q.signed}\")\n",
    "print(f\"decimal (unsigned) = {q.unsigned}\")\n",
    "print(f\"hexadecimal        = 0x{q:_x}\")\n",
    "print(f\"binary             = 0b{q:_b}\")\n",
    "print(f\"screened           = {q.screened} ({q.screened_id})\")\n",
    "print(f\"validity           = {q.validity} ({q.validity_id})\")\n",
    "print(\"\")\n",
    "\n",
    "Quality.setReturnSignedCodes()\n",
    "q = Quality(2204083073)\n",
    "print(f\"repr               = {repr(q)}\")\n",
    "print(f\"str                = {q}\")\n",
    "print(f\"text               = {q.text}\")\n",
    "print(f\"decimal (default)  = {q.code}\")\n",
    "print(f\"decimal (signed)   = {q.signed}\")\n",
    "print(f\"decimal (unsigned) = {q.unsigned}\")\n",
    "print(f\"hexadecimal        = 0x{q.unsigned:_x}\")\n",
    "print(f\"binary             = 0b{q.unsigned:_b}\")\n",
    "print(f\"screened           = {q.screened} ({q.screened_id})\")\n",
    "print(f\"validity           = {q.validity} ({q.validity_id})\")\n",
    "print(f\"range              = {q.range} ({q.range_id})\")\n",
    "print(f\"changed            = {q.changed} ({q.changed_id})\")\n",
    "print(f\"replacement cause  = {q.repl_cause} ({q.repl_cause_id})\")\n",
    "print(f\"test(s) failed     = {q.test_failed} ({q.test_failed_id})\")\n",
    "print(f\"protection         = {q.protection} ({q.protection_id})\")"
   ]
  }
 ],
 "metadata": {
  "kernelspec": {
   "display_name": "python_3_9",
   "language": "python",
   "name": "python3"
  },
  "language_info": {
   "codemirror_mode": {
    "name": "ipython",
    "version": 3
   },
   "file_extension": ".py",
   "mimetype": "text/x-python",
   "name": "python",
   "nbconvert_exporter": "python",
   "pygments_lexer": "ipython3",
   "version": "3.9.19"
  }
 },
 "nbformat": 4,
 "nbformat_minor": 2
}
