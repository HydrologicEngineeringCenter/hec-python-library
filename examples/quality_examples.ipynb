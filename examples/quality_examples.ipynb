{
 "cells": [
  {
   "cell_type": "markdown",
   "metadata": {},
   "source": [
    "## Exmple Usage of Quality Class"
   ]
  },
  {
   "cell_type": "markdown",
   "metadata": {},
   "source": [
    "### Setup"
   ]
  },
  {
   "cell_type": "code",
   "execution_count": 1,
   "metadata": {},
   "outputs": [],
   "source": [
    "import os\n",
    "import sys\n",
    "\n",
    "srcdir = os.path.join(os.path.dirname(os.getcwd()), \"src\")\n",
    "sys.path.append(srcdir)\n",
    "from hec.quality import Quality"
   ]
  },
  {
   "cell_type": "markdown",
   "metadata": {},
   "source": [
    "### Quality Examples"
   ]
  },
  {
   "cell_type": "code",
   "execution_count": 7,
   "metadata": {},
   "outputs": [
    {
     "name": "stdout",
     "output_type": "stream",
     "text": [
      "repr               = Quality(5)\n",
      "str                = m\n",
      "text               = Unprotected Screened Missing No_Range Original None None None\n",
      "decimal (default)  = 5\n",
      "decimal (signed)   = 5\n",
      "decimal (unsigned) = 5\n",
      "hexadecimal        = 0x5\n",
      "binary             = 0b101\n",
      "screened           = 1 (SCREENED)\n",
      "validity           = 2 (MISSING)\n",
      "\n",
      "repr               = Quality(-2090884223)\n",
      "str                = I+\n",
      "text               = Protected Screened Unknown No_Range Modified Manual Graphical Absolute_Value+Constant_Value+Rate_Of_Change+Relative_Value+Duration_Value+Neg_Increment+Skip_List+User_Defined+Distribution\n",
      "decimal (default)  = -2090884223\n",
      "decimal (signed)   = -2090884223\n",
      "decimal (unsigned) = 2204083073\n",
      "hexadecimal        = 0x835f_a381\n",
      "binary             = 0b1000_0011_0101_1111_1010_0011_1000_0001\n",
      "screened           = 1 (SCREENED)\n",
      "validity           = 0 (UNKNOWN)\n",
      "range              = 0 (NO_RANGE)\n",
      "changed            = 1 (MODIFIED)\n",
      "replacement cause  = 3 (MANUAL)\n",
      "replacement method = 4 (GRAPHICAL)\n",
      "test(s) failed     = 1727 (ABSOLUTE_VALUE+CONSTANT_VALUE+RATE_OF_CHANGE+RELATIVE_VALUE+DURATION_VALUE+NEG_INCREMENT+SKIP_LIST+USER_DEFINED+DISTRIBUTION)\n",
      "protection         = 1 (PROTECTED)\n",
      "\n",
      "m, score = 0: Unprotected Screened Missing No_Range Original None None None\n",
      "r, score = 0: Unprotected Screened Rejected No_Range Original None None None\n",
      "i, score = 1: Unprotected Screened Unknown No_Range Original None None None\n",
      "u, score = 1: Unprotected Unscreened Unknown No_Range Original None None None\n",
      "q, score = 2: Unprotected Screened Questionable No_Range Original None None None\n",
      "o, score = 3: Unprotected Screened Okay No_Range Original None None None\n"
     ]
    }
   ],
   "source": [
    "q = Quality(5)\n",
    "print(f\"repr               = {repr(q)}\")\n",
    "print(f\"str                = {q}\")\n",
    "print(f\"text               = {q.text}\")\n",
    "print(f\"decimal (default)  = {q.code}\")\n",
    "print(f\"decimal (signed)   = {q.signed}\")\n",
    "print(f\"decimal (unsigned) = {q.unsigned}\")\n",
    "print(f\"hexadecimal        = 0x{q:_x}\")\n",
    "print(f\"binary             = 0b{q:_b}\")\n",
    "print(f\"screened           = {q.screened} ({q.screened_id})\")\n",
    "print(f\"validity           = {q.validity} ({q.validity_id})\")\n",
    "print(\"\")\n",
    "\n",
    "Quality.setReturnSignedCodes()\n",
    "q = Quality(2204083073)\n",
    "print(f\"repr               = {repr(q)}\")\n",
    "print(f\"str                = {q}\")\n",
    "print(f\"text               = {q.text}\")\n",
    "print(f\"decimal (default)  = {q.code}\")\n",
    "print(f\"decimal (signed)   = {q.signed}\")\n",
    "print(f\"decimal (unsigned) = {q.unsigned}\")\n",
    "print(f\"hexadecimal        = 0x{q.unsigned:_x}\")\n",
    "print(f\"binary             = 0b{q.unsigned:_b}\")\n",
    "print(f\"screened           = {q.screened} ({q.screened_id})\")\n",
    "print(f\"validity           = {q.validity} ({q.validity_id})\")\n",
    "print(f\"range              = {q.range} ({q.range_id})\")\n",
    "print(f\"changed            = {q.changed} ({q.changed_id})\")\n",
    "print(f\"replacement cause  = {q.repl_cause} ({q.repl_cause_id})\")\n",
    "print(f\"replacement method = {q.repl_method} ({q.repl_method_id})\")\n",
    "print(f\"test(s) failed     = {q.test_failed} ({q.test_failed_id})\")\n",
    "print(f\"protection         = {q.protection} ({q.protection_id})\")\n",
    "\n",
    "qo = Quality(\"Okay\")\n",
    "qq = Quality(\"Questionable\")\n",
    "qm = Quality(\"Missing\")\n",
    "qr = Quality(\"Rejected\")\n",
    "qi = Quality(\"Indeterminate\")\n",
    "qu = Quality(\"Unscreened\")\n",
    "\n",
    "qualities = [qo, qq, qm, qr, qi, qu]\n",
    "qualities.sort()\n",
    "print(\"\")\n",
    "for q in sorted(qualities):\n",
    "    print(f\"{q}, score = {q.score}: {q.text}\")"
   ]
  }
 ],
 "metadata": {
  "kernelspec": {
   "display_name": "python_3_9",
   "language": "python",
   "name": "python3"
  },
  "language_info": {
   "codemirror_mode": {
    "name": "ipython",
    "version": 3
   },
   "file_extension": ".py",
   "mimetype": "text/x-python",
   "name": "python",
   "nbconvert_exporter": "python",
   "pygments_lexer": "ipython3",
   "version": "3.9.19"
  }
 },
 "nbformat": 4,
 "nbformat_minor": 2
}
