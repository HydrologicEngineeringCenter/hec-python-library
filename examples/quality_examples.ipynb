{
 "cells": [
  {
   "cell_type": "markdown",
   "metadata": {},
   "source": [
    "## Exmple Usage of Quality Class"
   ]
  },
  {
   "cell_type": "markdown",
   "metadata": {},
   "source": [
    "### Setup"
   ]
  },
  {
   "cell_type": "code",
   "execution_count": null,
   "metadata": {},
   "outputs": [],
   "source": [
    "import os\n",
    "import sys\n",
    "\n",
    "srcdir = os.path.dirname(os.getcwd())\n",
    "sys.path.append(srcdir)\n",
    "from hec import Quality"
   ]
  },
  {
   "cell_type": "markdown",
   "metadata": {},
   "source": [
    "### Quality Examples"
   ]
  },
  {
   "cell_type": "code",
   "execution_count": null,
   "metadata": {},
   "outputs": [],
   "source": [
    "q = Quality(5)\n",
    "print(f\"repr               = {repr(q)}\")\n",
    "print(f\"str                = {q}\")\n",
    "print(f\"text               = {q.text}\")\n",
    "print(f\"decimal (default)  = {q.code}\")\n",
    "print(f\"decimal (signed)   = {q.signed}\")\n",
    "print(f\"decimal (unsigned) = {q.unsigned}\")\n",
    "print(f\"hexadecimal        = 0x{q:_x}\")\n",
    "print(f\"binary             = 0b{q:_b}\")\n",
    "print(f\"screened           = {q.screened} ({q.screened_id})\")\n",
    "print(f\"validity           = {q.validity} ({q.validity_id})\")\n",
    "print(\"\")\n",
    "\n",
    "Quality.set_return_signed_codes()\n",
    "q = Quality(2204083073)\n",
    "print(f\"repr               = {repr(q)}\")\n",
    "print(f\"str                = {q}\")\n",
    "print(f\"text               = {q.text}\")\n",
    "print(f\"decimal (default)  = {q.code}\")\n",
    "print(f\"decimal (signed)   = {q.signed}\")\n",
    "print(f\"decimal (unsigned) = {q.unsigned}\")\n",
    "print(f\"hexadecimal        = 0x{q.unsigned:_x}\")\n",
    "print(f\"binary             = 0b{q.unsigned:_b}\")\n",
    "print(f\"screened           = {q.screened} ({q.screened_id})\")\n",
    "print(f\"validity           = {q.validity} ({q.validity_id})\")\n",
    "print(f\"range              = {q.range} ({q.range_id})\")\n",
    "print(f\"changed            = {q.changed} ({q.changed_id})\")\n",
    "print(f\"replacement cause  = {q.repl_cause} ({q.repl_cause_id})\")\n",
    "print(f\"replacement method = {q.repl_method} ({q.repl_method_id})\")\n",
    "print(f\"test(s) failed     = {q.test_failed} ({q.test_failed_id})\")\n",
    "print(f\"protection         = {q.protection} ({q.protection_id})\")\n",
    "\n",
    "qo = Quality(\"Okay\")\n",
    "qq = Quality(\"Questionable\")\n",
    "qm = Quality(\"Missing\")\n",
    "qr = Quality(\"Rejected\")\n",
    "qi = Quality(\"Indeterminate\")\n",
    "qu = Quality(\"Unscreened\")\n",
    "\n",
    "qualities = [qo, qq, qm, qr, qi, qu]\n",
    "qualities.sort()\n",
    "print(\"\")\n",
    "for q in sorted(qualities):\n",
    "    print(f\"{q}, score = {q.score}: {q.text}\")"
   ]
  }
 ],
 "metadata": {
  "kernelspec": {
   "display_name": "python_3_9",
   "language": "python",
   "name": "python3"
  },
  "language_info": {
   "codemirror_mode": {
    "name": "ipython",
    "version": 3
   },
   "file_extension": ".py",
   "mimetype": "text/x-python",
   "name": "python",
   "nbconvert_exporter": "python",
   "pygments_lexer": "ipython3",
   "version": "3.9.19"
  }
 },
 "nbformat": 4,
 "nbformat_minor": 2
}
